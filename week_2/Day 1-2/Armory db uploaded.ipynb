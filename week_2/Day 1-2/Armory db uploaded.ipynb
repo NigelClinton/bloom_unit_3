{
 "cells": [
  {
   "cell_type": "code",
   "execution_count": null,
   "source": [
    "import sqlite3\r\n",
    "import psycopg2"
   ],
   "outputs": [],
   "metadata": {}
  },
  {
   "cell_type": "code",
   "execution_count": null,
   "source": [
    "s_conn = sqlite3.connect('rpg_db.sqlite3')"
   ],
   "outputs": [],
   "metadata": {}
  },
  {
   "cell_type": "code",
   "execution_count": null,
   "source": [
    "dbname='wtjnvyve'\r\n",
    "user='wtjnvyve'\r\n",
    "password='APZ5ovhYkyOh9P0ml48zitzoclq9mI0r'\r\n",
    "host='chunee.db.elephantsql.com'"
   ],
   "outputs": [],
   "metadata": {}
  },
  {
   "cell_type": "code",
   "execution_count": null,
   "source": [
    "p_con = psycopg2.connect(dbname=dbname,user=user,password=password,host=host)"
   ],
   "outputs": [],
   "metadata": {
    "collapsed": true
   }
  },
  {
   "cell_type": "code",
   "execution_count": 7,
   "source": [
    "p_cur = p_con.cursor()"
   ],
   "outputs": [
    {
     "output_type": "error",
     "ename": "NameError",
     "evalue": "name 'p_con' is not defined",
     "traceback": [
      "\u001b[1;31m---------------------------------------------------------------------------\u001b[0m",
      "\u001b[1;31mNameError\u001b[0m                                 Traceback (most recent call last)",
      "\u001b[1;32m~\\AppData\\Local\\Temp/ipykernel_3024/561146942.py\u001b[0m in \u001b[0;36m<module>\u001b[1;34m\u001b[0m\n\u001b[1;32m----> 1\u001b[1;33m \u001b[0mp_cur\u001b[0m \u001b[1;33m=\u001b[0m \u001b[0mp_con\u001b[0m\u001b[1;33m.\u001b[0m\u001b[0mcursor\u001b[0m\u001b[1;33m(\u001b[0m\u001b[1;33m)\u001b[0m\u001b[1;33m\u001b[0m\u001b[1;33m\u001b[0m\u001b[0m\n\u001b[0m",
      "\u001b[1;31mNameError\u001b[0m: name 'p_con' is not defined"
     ]
    }
   ],
   "metadata": {}
  },
  {
   "cell_type": "code",
   "execution_count": null,
   "source": [
    "rows = p_cur.execute(\"SELECT name, value,wirght from armory_item;\").fetchall()\r\n",
    "print(rows)"
   ],
   "outputs": [],
   "metadata": {}
  },
  {
   "cell_type": "code",
   "execution_count": 6,
   "source": [
    "p_cur.execute(\"\"\"CREATE TABLE armory_item(item_id SERIAL PRIMARY KEY, name VARCHAR(30),value INTEGER, weight INTEGER)\"\"\")"
   ],
   "outputs": [
    {
     "output_type": "error",
     "ename": "NameError",
     "evalue": "name 'p_cur' is not defined",
     "traceback": [
      "\u001b[1;31m---------------------------------------------------------------------------\u001b[0m",
      "\u001b[1;31mNameError\u001b[0m                                 Traceback (most recent call last)",
      "\u001b[1;32m~\\AppData\\Local\\Temp/ipykernel_3024/292550561.py\u001b[0m in \u001b[0;36m<module>\u001b[1;34m\u001b[0m\n\u001b[1;32m----> 1\u001b[1;33m \u001b[0mp_cur\u001b[0m\u001b[1;33m.\u001b[0m\u001b[0mexecute\u001b[0m\u001b[1;33m(\u001b[0m\u001b[1;34m\"\"\"CREATE TABLE armory_item(item_id SERIAL PRIMARY KEY, name VARCHAR(30),value INTEGER, weight INTEGER)\"\"\"\u001b[0m\u001b[1;33m)\u001b[0m\u001b[1;33m\u001b[0m\u001b[1;33m\u001b[0m\u001b[0m\n\u001b[0m",
      "\u001b[1;31mNameError\u001b[0m: name 'p_cur' is not defined"
     ]
    }
   ],
   "metadata": {}
  },
  {
   "cell_type": "code",
   "execution_count": null,
   "source": [
    "values = ','.join(['%s']*len(rows))\r\n",
    "insert_query='INSERT INTO armory_item (name,value,weight) values{}'.format(values)"
   ],
   "outputs": [],
   "metadata": {}
  },
  {
   "cell_type": "code",
   "execution_count": null,
   "source": [
    "p_cur.execute(insert_query,rows)"
   ],
   "outputs": [],
   "metadata": {}
  },
  {
   "cell_type": "code",
   "execution_count": null,
   "source": [
    "p_cur.execute (\"SELECT * FROM armory_item;\")"
   ],
   "outputs": [],
   "metadata": {}
  },
  {
   "cell_type": "code",
   "execution_count": null,
   "source": [
    "p_con.commit()"
   ],
   "outputs": [],
   "metadata": {}
  },
  {
   "cell_type": "markdown",
   "source": [
    "A little something I wanted to share that should work with both sqlite3 and psycopg2.\n",
    "\n",
    "Say you wanted to create a DataFrame from a query that you execute but, you didn't want to hard-code the column names. \n",
    "\n",
    "PRAGMA table_info('<table>') would work in sqlite if you were getting all the columns from a particular table but, it might not work unless you create an innerQuery.\n",
    "    \n",
    "Something you can do instead in your code is, first, executing your query.\n",
    "    \n",
    "    Then, you can use a list comprehension to build a list of column names from your query like this:"
   ],
   "metadata": {}
  },
  {
   "cell_type": "code",
   "execution_count": null,
   "source": [
    "query = \"\"\"SELECT * FROM charactercreator_character;\"\"\"\r\n",
    "\r\n",
    "records = curs.execute(query).fetchall()\r\n",
    "\r\n",
    "columns = [d[0] for d in curs.description]"
   ],
   "outputs": [],
   "metadata": {}
  },
  {
   "cell_type": "markdown",
   "source": [
    "columns should then contain a list of column names returned from your query"
   ],
   "metadata": {}
  },
  {
   "cell_type": "markdown",
   "source": [
    "import sqlite3\r\n",
    "\r\n",
    "conn = sqlite3.connect('rpg_sqlite3')\r\n",
    "\r\n",
    "cur = conn.cursor()\r\n",
    "\r\n",
    "result = cur.execute(\"SELECT = from armor_item;\")\r\n",
    "\r\n",
    "result,fetchone()\r\n",
    "\r\n",
    "result.fetchall()\r\n",
    "\r\n",
    "query = \"SELECT * from armor_item;\"\r\n",
    "\r\n",
    "result = cur.execute(query)\r\n",
    "\r\n",
    "result.fetchmany(10)\r\n",
    "\r\n",
    "conn.close()"
   ],
   "metadata": {}
  },
  {
   "cell_type": "code",
   "execution_count": 1,
   "source": [
    "import sqlite3"
   ],
   "outputs": [],
   "metadata": {}
  },
  {
   "cell_type": "code",
   "execution_count": 2,
   "source": [
    "conn = sqlite3.connect('rpg_db.sqlite3')"
   ],
   "outputs": [],
   "metadata": {}
  },
  {
   "cell_type": "code",
   "execution_count": 3,
   "source": [
    "cur = conn.cursor()"
   ],
   "outputs": [],
   "metadata": {}
  },
  {
   "cell_type": "code",
   "execution_count": 4,
   "source": [
    "result = cur.execute(\"SELECT * from armory_item;\")"
   ],
   "outputs": [],
   "metadata": {}
  },
  {
   "cell_type": "code",
   "execution_count": 5,
   "source": [
    "result.fetchone()"
   ],
   "outputs": [
    {
     "output_type": "execute_result",
     "data": {
      "text/plain": [
       "(1, 'Libero facere dolore, as', 0, 0)"
      ]
     },
     "metadata": {},
     "execution_count": 5
    }
   ],
   "metadata": {}
  },
  {
   "cell_type": "code",
   "execution_count": null,
   "source": [
    "result.fetchall()"
   ],
   "outputs": [],
   "metadata": {}
  },
  {
   "cell_type": "code",
   "execution_count": 10,
   "source": [
    "query = \"SELECT * from armory_item;\""
   ],
   "outputs": [],
   "metadata": {}
  },
  {
   "cell_type": "code",
   "execution_count": 24,
   "source": [
    "result = cur.execute(query)"
   ],
   "outputs": [],
   "metadata": {}
  },
  {
   "cell_type": "code",
   "execution_count": 26,
   "source": [
    "list = result.fetchall()"
   ],
   "outputs": [],
   "metadata": {}
  },
  {
   "cell_type": "code",
   "execution_count": null,
   "source": [
    "conn.close()"
   ],
   "outputs": [],
   "metadata": {}
  },
  {
   "cell_type": "code",
   "execution_count": null,
   "source": [],
   "outputs": [],
   "metadata": {}
  }
 ],
 "metadata": {
  "kernelspec": {
   "name": "python3",
   "display_name": "Python 3.9.1 64-bit"
  },
  "language_info": {
   "codemirror_mode": {
    "name": "ipython",
    "version": 3
   },
   "file_extension": ".py",
   "mimetype": "text/x-python",
   "name": "python",
   "nbconvert_exporter": "python",
   "pygments_lexer": "ipython3",
   "version": "3.9.1"
  },
  "interpreter": {
   "hash": "b56204e04fac71cbe4e15d7b3dab17d89d2f24d87d00adcaa585640e5d78c50d"
  }
 },
 "nbformat": 4,
 "nbformat_minor": 5
}