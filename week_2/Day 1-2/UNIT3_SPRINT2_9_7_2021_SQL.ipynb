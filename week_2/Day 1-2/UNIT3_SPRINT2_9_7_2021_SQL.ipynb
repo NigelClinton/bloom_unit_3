{
 "cells": [
  {
   "cell_type": "code",
   "execution_count": 1,
   "source": [
    "#Import libary - \r\n",
    "import psycopg2"
   ],
   "outputs": [],
   "metadata": {}
  },
  {
   "cell_type": "code",
   "execution_count": 3,
   "source": [
    "# Create connection variables - \r\n",
    "dbname='wtjnvyve'\r\n",
    "user='wtjnvyve'\r\n",
    "password='APZ5ovhYkyOh9P0ml48zitzoclq9mI0r'\r\n",
    "host='chunee.db.elephantsql.com'"
   ],
   "outputs": [],
   "metadata": {}
  },
  {
   "cell_type": "code",
   "execution_count": 7,
   "source": [
    "# Create connection object -\r\n",
    "con = psycopg2.connect(dbname=dbname,user=user,password=password,host=host)"
   ],
   "outputs": [],
   "metadata": {}
  },
  {
   "cell_type": "code",
   "execution_count": 9,
   "source": [
    "# Verify the connection - \r\n",
    "con"
   ],
   "outputs": [
    {
     "output_type": "execute_result",
     "data": {
      "text/plain": [
       "<connection object at 0x0000025C7EB1A9D0; dsn: 'user=wtjnvyve password=xxx dbname=wtjnvyve host=chunee.db.elephantsql.com', closed: 0>"
      ]
     },
     "metadata": {},
     "execution_count": 9
    }
   ],
   "metadata": {}
  },
  {
   "cell_type": "code",
   "execution_count": 8,
   "source": [
    "# Create cursor object - \r\n",
    "cur = con.cursor()"
   ],
   "outputs": [],
   "metadata": {}
  },
  {
   "cell_type": "code",
   "execution_count": 12,
   "source": [
    "# Create db -\r\n",
    "cur.execute(\"\"\"CREATE TABLE fruit(id SERIAL PRIMARY KEY,name VARCHAR(50) NOT NULL,quantity INTEGER)\"\"\")"
   ],
   "outputs": [],
   "metadata": {}
  },
  {
   "cell_type": "code",
   "execution_count": 14,
   "source": [
    "# Populate data into db - \r\n",
    "cur.execute(\"INSERT INTO fruit(name,quantity) VALUES (%s, %s)\",(\"apple\",10))"
   ],
   "outputs": [],
   "metadata": {}
  },
  {
   "cell_type": "code",
   "execution_count": 15,
   "source": [
    "# To specify where you're quarying your data - \r\n",
    "cur.execute(\"SELECT * FROM fruit;\")"
   ],
   "outputs": [],
   "metadata": {}
  },
  {
   "cell_type": "code",
   "execution_count": 16,
   "source": [
    "# To show all information into the database - \r\n",
    "cur.fetchall()"
   ],
   "outputs": [
    {
     "output_type": "execute_result",
     "data": {
      "text/plain": [
       "[(1, 'apple', 10)]"
      ]
     },
     "metadata": {},
     "execution_count": 16
    }
   ],
   "metadata": {}
  },
  {
   "cell_type": "code",
   "execution_count": 17,
   "source": [
    "# To update the database - \r\n",
    "con.commit()"
   ],
   "outputs": [],
   "metadata": {}
  }
 ],
 "metadata": {
  "kernelspec": {
   "name": "python3",
   "display_name": "Python 3.9.1 64-bit"
  },
  "language_info": {
   "codemirror_mode": {
    "name": "ipython",
    "version": 3
   },
   "file_extension": ".py",
   "mimetype": "text/x-python",
   "name": "python",
   "nbconvert_exporter": "python",
   "pygments_lexer": "ipython3",
   "version": "3.9.1"
  },
  "interpreter": {
   "hash": "b56204e04fac71cbe4e15d7b3dab17d89d2f24d87d00adcaa585640e5d78c50d"
  }
 },
 "nbformat": 4,
 "nbformat_minor": 5
}