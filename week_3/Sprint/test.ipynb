{
 "cells": [
  {
   "cell_type": "code",
   "execution_count": 21,
   "source": [
    "import pandas as pd\r\n",
    "import numpy as np\r\n",
    "import seaborn as sns\r\n",
    "import matplotlib.pyplot as plt\r\n",
    "import json\r\n",
    "from ast import literal_eval\r\n",
    "pd.set_option('display.max_columns', None)"
   ],
   "outputs": [],
   "metadata": {}
  },
  {
   "cell_type": "code",
   "execution_count": 22,
   "source": [
    "df = pd.read_csv(\"./Kickstarter015.csv\")"
   ],
   "outputs": [],
   "metadata": {}
  },
  {
   "cell_type": "code",
   "execution_count": 24,
   "source": [
    "cols_to_drop = ['created_at', 'is_backing','deadline', 'launched_at', 'state_changed_at', 'urls', 'source_url', 'photo', 'permissions', 'friends', 'is_starrable','disable_communication','is_starred', 'blurb','currency_symbol','slug','name','creator']"
   ],
   "outputs": [],
   "metadata": {}
  },
  {
   "cell_type": "code",
   "execution_count": 25,
   "source": [
    "df = df.drop(columns=cols_to_drop)"
   ],
   "outputs": [],
   "metadata": {}
  },
  {
   "cell_type": "code",
   "execution_count": 26,
   "source": [
    "df"
   ],
   "outputs": [
    {
     "output_type": "execute_result",
     "data": {
      "text/html": [
       "<div>\n",
       "<style scoped>\n",
       "    .dataframe tbody tr th:only-of-type {\n",
       "        vertical-align: middle;\n",
       "    }\n",
       "\n",
       "    .dataframe tbody tr th {\n",
       "        vertical-align: top;\n",
       "    }\n",
       "\n",
       "    .dataframe thead th {\n",
       "        text-align: right;\n",
       "    }\n",
       "</style>\n",
       "<table border=\"1\" class=\"dataframe\">\n",
       "  <thead>\n",
       "    <tr style=\"text-align: right;\">\n",
       "      <th></th>\n",
       "      <th>backers_count</th>\n",
       "      <th>category</th>\n",
       "      <th>converted_pledged_amount</th>\n",
       "      <th>country</th>\n",
       "      <th>currency</th>\n",
       "      <th>currency_trailing_code</th>\n",
       "      <th>current_currency</th>\n",
       "      <th>fx_rate</th>\n",
       "      <th>goal</th>\n",
       "      <th>id</th>\n",
       "      <th>location</th>\n",
       "      <th>pledged</th>\n",
       "      <th>profile</th>\n",
       "      <th>spotlight</th>\n",
       "      <th>staff_pick</th>\n",
       "      <th>state</th>\n",
       "      <th>static_usd_rate</th>\n",
       "      <th>usd_pledged</th>\n",
       "      <th>usd_type</th>\n",
       "    </tr>\n",
       "  </thead>\n",
       "  <tbody>\n",
       "    <tr>\n",
       "      <th>0</th>\n",
       "      <td>140</td>\n",
       "      <td>{\"id\":35,\"name\":\"Video Games\",\"slug\":\"games/vi...</td>\n",
       "      <td>13272</td>\n",
       "      <td>CA</td>\n",
       "      <td>CAD</td>\n",
       "      <td>True</td>\n",
       "      <td>USD</td>\n",
       "      <td>0.766388</td>\n",
       "      <td>315.0</td>\n",
       "      <td>2064776327</td>\n",
       "      <td>{\"id\":4118,\"name\":\"Toronto\",\"slug\":\"toronto-on...</td>\n",
       "      <td>16987.0</td>\n",
       "      <td>{\"id\":2392547,\"project_id\":2392547,\"state\":\"in...</td>\n",
       "      <td>True</td>\n",
       "      <td>False</td>\n",
       "      <td>successful</td>\n",
       "      <td>0.756822</td>\n",
       "      <td>12856.141769</td>\n",
       "      <td>domestic</td>\n",
       "    </tr>\n",
       "    <tr>\n",
       "      <th>1</th>\n",
       "      <td>123</td>\n",
       "      <td>{\"id\":304,\"name\":\"Bacon\",\"slug\":\"food/bacon\",\"...</td>\n",
       "      <td>8742</td>\n",
       "      <td>US</td>\n",
       "      <td>USD</td>\n",
       "      <td>True</td>\n",
       "      <td>USD</td>\n",
       "      <td>1.000000</td>\n",
       "      <td>8000.0</td>\n",
       "      <td>1400337454</td>\n",
       "      <td>{\"id\":2463174,\"name\":\"Oak Park\",\"slug\":\"oak-pa...</td>\n",
       "      <td>8742.0</td>\n",
       "      <td>{\"id\":1231322,\"project_id\":1231322,\"state\":\"in...</td>\n",
       "      <td>True</td>\n",
       "      <td>False</td>\n",
       "      <td>successful</td>\n",
       "      <td>1.000000</td>\n",
       "      <td>8742.000000</td>\n",
       "      <td>domestic</td>\n",
       "    </tr>\n",
       "    <tr>\n",
       "      <th>2</th>\n",
       "      <td>4</td>\n",
       "      <td>{\"id\":332,\"name\":\"Apps\",\"slug\":\"technology/app...</td>\n",
       "      <td>620</td>\n",
       "      <td>US</td>\n",
       "      <td>USD</td>\n",
       "      <td>True</td>\n",
       "      <td>USD</td>\n",
       "      <td>1.000000</td>\n",
       "      <td>100000.0</td>\n",
       "      <td>1219983713</td>\n",
       "      <td>{\"id\":2488836,\"name\":\"Santa Clara\",\"slug\":\"san...</td>\n",
       "      <td>620.0</td>\n",
       "      <td>{\"id\":3647622,\"project_id\":3647622,\"state\":\"in...</td>\n",
       "      <td>False</td>\n",
       "      <td>False</td>\n",
       "      <td>failed</td>\n",
       "      <td>1.000000</td>\n",
       "      <td>620.000000</td>\n",
       "      <td>domestic</td>\n",
       "    </tr>\n",
       "    <tr>\n",
       "      <th>3</th>\n",
       "      <td>2</td>\n",
       "      <td>{\"id\":361,\"name\":\"Web\",\"slug\":\"journalism/web\"...</td>\n",
       "      <td>2</td>\n",
       "      <td>US</td>\n",
       "      <td>USD</td>\n",
       "      <td>True</td>\n",
       "      <td>USD</td>\n",
       "      <td>1.000000</td>\n",
       "      <td>800.0</td>\n",
       "      <td>210697106</td>\n",
       "      <td>{\"id\":2398081,\"name\":\"Elburn\",\"slug\":\"elburn-i...</td>\n",
       "      <td>2.0</td>\n",
       "      <td>{\"id\":2448666,\"project_id\":2448666,\"state\":\"in...</td>\n",
       "      <td>False</td>\n",
       "      <td>False</td>\n",
       "      <td>failed</td>\n",
       "      <td>1.000000</td>\n",
       "      <td>2.000000</td>\n",
       "      <td>domestic</td>\n",
       "    </tr>\n",
       "    <tr>\n",
       "      <th>4</th>\n",
       "      <td>3</td>\n",
       "      <td>{\"id\":328,\"name\":\"Young Adult\",\"slug\":\"publish...</td>\n",
       "      <td>51</td>\n",
       "      <td>US</td>\n",
       "      <td>USD</td>\n",
       "      <td>True</td>\n",
       "      <td>USD</td>\n",
       "      <td>1.000000</td>\n",
       "      <td>3000.0</td>\n",
       "      <td>27524816</td>\n",
       "      <td>{\"id\":2450022,\"name\":\"Miami\",\"slug\":\"miami-fl\"...</td>\n",
       "      <td>51.5</td>\n",
       "      <td>{\"id\":1989796,\"project_id\":1989796,\"state\":\"in...</td>\n",
       "      <td>False</td>\n",
       "      <td>False</td>\n",
       "      <td>failed</td>\n",
       "      <td>1.000000</td>\n",
       "      <td>51.500000</td>\n",
       "      <td>domestic</td>\n",
       "    </tr>\n",
       "    <tr>\n",
       "      <th>...</th>\n",
       "      <td>...</td>\n",
       "      <td>...</td>\n",
       "      <td>...</td>\n",
       "      <td>...</td>\n",
       "      <td>...</td>\n",
       "      <td>...</td>\n",
       "      <td>...</td>\n",
       "      <td>...</td>\n",
       "      <td>...</td>\n",
       "      <td>...</td>\n",
       "      <td>...</td>\n",
       "      <td>...</td>\n",
       "      <td>...</td>\n",
       "      <td>...</td>\n",
       "      <td>...</td>\n",
       "      <td>...</td>\n",
       "      <td>...</td>\n",
       "      <td>...</td>\n",
       "      <td>...</td>\n",
       "    </tr>\n",
       "    <tr>\n",
       "      <th>3760</th>\n",
       "      <td>2</td>\n",
       "      <td>{\"id\":20,\"name\":\"Conceptual Art\",\"slug\":\"art/c...</td>\n",
       "      <td>82</td>\n",
       "      <td>US</td>\n",
       "      <td>USD</td>\n",
       "      <td>True</td>\n",
       "      <td>USD</td>\n",
       "      <td>1.000000</td>\n",
       "      <td>5000.0</td>\n",
       "      <td>694344478</td>\n",
       "      <td>{\"id\":2466256,\"name\":\"Orlando\",\"slug\":\"orlando...</td>\n",
       "      <td>82.0</td>\n",
       "      <td>{\"id\":3013076,\"project_id\":3013076,\"state\":\"in...</td>\n",
       "      <td>False</td>\n",
       "      <td>False</td>\n",
       "      <td>failed</td>\n",
       "      <td>1.000000</td>\n",
       "      <td>82.000000</td>\n",
       "      <td>domestic</td>\n",
       "    </tr>\n",
       "    <tr>\n",
       "      <th>3761</th>\n",
       "      <td>87</td>\n",
       "      <td>{\"id\":361,\"name\":\"Web\",\"slug\":\"journalism/web\"...</td>\n",
       "      <td>4209</td>\n",
       "      <td>GB</td>\n",
       "      <td>GBP</td>\n",
       "      <td>False</td>\n",
       "      <td>USD</td>\n",
       "      <td>1.243823</td>\n",
       "      <td>3000.0</td>\n",
       "      <td>1383797686</td>\n",
       "      <td>{\"id\":56014254,\"name\":\"Kuching\",\"slug\":\"kuchin...</td>\n",
       "      <td>3428.0</td>\n",
       "      <td>{\"id\":2744783,\"project_id\":2744783,\"state\":\"in...</td>\n",
       "      <td>True</td>\n",
       "      <td>True</td>\n",
       "      <td>successful</td>\n",
       "      <td>1.239729</td>\n",
       "      <td>4249.790498</td>\n",
       "      <td>domestic</td>\n",
       "    </tr>\n",
       "    <tr>\n",
       "      <th>3762</th>\n",
       "      <td>120</td>\n",
       "      <td>{\"id\":280,\"name\":\"Photobooks\",\"slug\":\"photogra...</td>\n",
       "      <td>20181</td>\n",
       "      <td>US</td>\n",
       "      <td>USD</td>\n",
       "      <td>True</td>\n",
       "      <td>USD</td>\n",
       "      <td>1.000000</td>\n",
       "      <td>10000.0</td>\n",
       "      <td>685029181</td>\n",
       "      <td>{\"id\":2391585,\"name\":\"Detroit\",\"slug\":\"detroit...</td>\n",
       "      <td>20181.0</td>\n",
       "      <td>{\"id\":3281051,\"project_id\":3281051,\"state\":\"in...</td>\n",
       "      <td>True</td>\n",
       "      <td>True</td>\n",
       "      <td>successful</td>\n",
       "      <td>1.000000</td>\n",
       "      <td>20181.000000</td>\n",
       "      <td>domestic</td>\n",
       "    </tr>\n",
       "    <tr>\n",
       "      <th>3763</th>\n",
       "      <td>22</td>\n",
       "      <td>{\"id\":301,\"name\":\"Science Fiction\",\"slug\":\"fil...</td>\n",
       "      <td>690</td>\n",
       "      <td>US</td>\n",
       "      <td>USD</td>\n",
       "      <td>True</td>\n",
       "      <td>USD</td>\n",
       "      <td>1.000000</td>\n",
       "      <td>2000.0</td>\n",
       "      <td>1159446880</td>\n",
       "      <td>{\"id\":2510530,\"name\":\"Utica\",\"slug\":\"utica-ny\"...</td>\n",
       "      <td>690.0</td>\n",
       "      <td>{\"id\":1867979,\"project_id\":1867979,\"state\":\"in...</td>\n",
       "      <td>False</td>\n",
       "      <td>False</td>\n",
       "      <td>failed</td>\n",
       "      <td>1.000000</td>\n",
       "      <td>690.000000</td>\n",
       "      <td>domestic</td>\n",
       "    </tr>\n",
       "    <tr>\n",
       "      <th>3764</th>\n",
       "      <td>36</td>\n",
       "      <td>{\"id\":293,\"name\":\"Drama\",\"slug\":\"film &amp; video/...</td>\n",
       "      <td>1933</td>\n",
       "      <td>GB</td>\n",
       "      <td>GBP</td>\n",
       "      <td>False</td>\n",
       "      <td>USD</td>\n",
       "      <td>1.243823</td>\n",
       "      <td>20000.0</td>\n",
       "      <td>629306348</td>\n",
       "      <td>{\"id\":21125,\"name\":\"Glasgow\",\"slug\":\"glasgow-g...</td>\n",
       "      <td>1472.0</td>\n",
       "      <td>{\"id\":3035386,\"project_id\":3035386,\"state\":\"in...</td>\n",
       "      <td>False</td>\n",
       "      <td>False</td>\n",
       "      <td>failed</td>\n",
       "      <td>1.281572</td>\n",
       "      <td>1886.473263</td>\n",
       "      <td>domestic</td>\n",
       "    </tr>\n",
       "  </tbody>\n",
       "</table>\n",
       "<p>3765 rows × 19 columns</p>\n",
       "</div>"
      ],
      "text/plain": [
       "      backers_count                                           category  \\\n",
       "0               140  {\"id\":35,\"name\":\"Video Games\",\"slug\":\"games/vi...   \n",
       "1               123  {\"id\":304,\"name\":\"Bacon\",\"slug\":\"food/bacon\",\"...   \n",
       "2                 4  {\"id\":332,\"name\":\"Apps\",\"slug\":\"technology/app...   \n",
       "3                 2  {\"id\":361,\"name\":\"Web\",\"slug\":\"journalism/web\"...   \n",
       "4                 3  {\"id\":328,\"name\":\"Young Adult\",\"slug\":\"publish...   \n",
       "...             ...                                                ...   \n",
       "3760              2  {\"id\":20,\"name\":\"Conceptual Art\",\"slug\":\"art/c...   \n",
       "3761             87  {\"id\":361,\"name\":\"Web\",\"slug\":\"journalism/web\"...   \n",
       "3762            120  {\"id\":280,\"name\":\"Photobooks\",\"slug\":\"photogra...   \n",
       "3763             22  {\"id\":301,\"name\":\"Science Fiction\",\"slug\":\"fil...   \n",
       "3764             36  {\"id\":293,\"name\":\"Drama\",\"slug\":\"film & video/...   \n",
       "\n",
       "      converted_pledged_amount country currency  currency_trailing_code  \\\n",
       "0                        13272      CA      CAD                    True   \n",
       "1                         8742      US      USD                    True   \n",
       "2                          620      US      USD                    True   \n",
       "3                            2      US      USD                    True   \n",
       "4                           51      US      USD                    True   \n",
       "...                        ...     ...      ...                     ...   \n",
       "3760                        82      US      USD                    True   \n",
       "3761                      4209      GB      GBP                   False   \n",
       "3762                     20181      US      USD                    True   \n",
       "3763                       690      US      USD                    True   \n",
       "3764                      1933      GB      GBP                   False   \n",
       "\n",
       "     current_currency   fx_rate      goal          id  \\\n",
       "0                 USD  0.766388     315.0  2064776327   \n",
       "1                 USD  1.000000    8000.0  1400337454   \n",
       "2                 USD  1.000000  100000.0  1219983713   \n",
       "3                 USD  1.000000     800.0   210697106   \n",
       "4                 USD  1.000000    3000.0    27524816   \n",
       "...               ...       ...       ...         ...   \n",
       "3760              USD  1.000000    5000.0   694344478   \n",
       "3761              USD  1.243823    3000.0  1383797686   \n",
       "3762              USD  1.000000   10000.0   685029181   \n",
       "3763              USD  1.000000    2000.0  1159446880   \n",
       "3764              USD  1.243823   20000.0   629306348   \n",
       "\n",
       "                                               location  pledged  \\\n",
       "0     {\"id\":4118,\"name\":\"Toronto\",\"slug\":\"toronto-on...  16987.0   \n",
       "1     {\"id\":2463174,\"name\":\"Oak Park\",\"slug\":\"oak-pa...   8742.0   \n",
       "2     {\"id\":2488836,\"name\":\"Santa Clara\",\"slug\":\"san...    620.0   \n",
       "3     {\"id\":2398081,\"name\":\"Elburn\",\"slug\":\"elburn-i...      2.0   \n",
       "4     {\"id\":2450022,\"name\":\"Miami\",\"slug\":\"miami-fl\"...     51.5   \n",
       "...                                                 ...      ...   \n",
       "3760  {\"id\":2466256,\"name\":\"Orlando\",\"slug\":\"orlando...     82.0   \n",
       "3761  {\"id\":56014254,\"name\":\"Kuching\",\"slug\":\"kuchin...   3428.0   \n",
       "3762  {\"id\":2391585,\"name\":\"Detroit\",\"slug\":\"detroit...  20181.0   \n",
       "3763  {\"id\":2510530,\"name\":\"Utica\",\"slug\":\"utica-ny\"...    690.0   \n",
       "3764  {\"id\":21125,\"name\":\"Glasgow\",\"slug\":\"glasgow-g...   1472.0   \n",
       "\n",
       "                                                profile  spotlight  \\\n",
       "0     {\"id\":2392547,\"project_id\":2392547,\"state\":\"in...       True   \n",
       "1     {\"id\":1231322,\"project_id\":1231322,\"state\":\"in...       True   \n",
       "2     {\"id\":3647622,\"project_id\":3647622,\"state\":\"in...      False   \n",
       "3     {\"id\":2448666,\"project_id\":2448666,\"state\":\"in...      False   \n",
       "4     {\"id\":1989796,\"project_id\":1989796,\"state\":\"in...      False   \n",
       "...                                                 ...        ...   \n",
       "3760  {\"id\":3013076,\"project_id\":3013076,\"state\":\"in...      False   \n",
       "3761  {\"id\":2744783,\"project_id\":2744783,\"state\":\"in...       True   \n",
       "3762  {\"id\":3281051,\"project_id\":3281051,\"state\":\"in...       True   \n",
       "3763  {\"id\":1867979,\"project_id\":1867979,\"state\":\"in...      False   \n",
       "3764  {\"id\":3035386,\"project_id\":3035386,\"state\":\"in...      False   \n",
       "\n",
       "      staff_pick       state  static_usd_rate   usd_pledged  usd_type  \n",
       "0          False  successful         0.756822  12856.141769  domestic  \n",
       "1          False  successful         1.000000   8742.000000  domestic  \n",
       "2          False      failed         1.000000    620.000000  domestic  \n",
       "3          False      failed         1.000000      2.000000  domestic  \n",
       "4          False      failed         1.000000     51.500000  domestic  \n",
       "...          ...         ...              ...           ...       ...  \n",
       "3760       False      failed         1.000000     82.000000  domestic  \n",
       "3761        True  successful         1.239729   4249.790498  domestic  \n",
       "3762        True  successful         1.000000  20181.000000  domestic  \n",
       "3763       False      failed         1.000000    690.000000  domestic  \n",
       "3764       False      failed         1.281572   1886.473263  domestic  \n",
       "\n",
       "[3765 rows x 19 columns]"
      ]
     },
     "metadata": {},
     "execution_count": 26
    }
   ],
   "metadata": {}
  },
  {
   "cell_type": "code",
   "execution_count": 27,
   "source": [
    "cat_id = literal_eval(df['category'][0])['id']\r\n",
    "cat_id"
   ],
   "outputs": [
    {
     "output_type": "execute_result",
     "data": {
      "text/plain": [
       "35"
      ]
     },
     "metadata": {},
     "execution_count": 27
    }
   ],
   "metadata": {}
  },
  {
   "cell_type": "code",
   "execution_count": 28,
   "source": [
    "from ast import literal_eval\r\n",
    "cat_name = literal_eval(df['category'][0])['name']\r\n",
    "cat_name"
   ],
   "outputs": [
    {
     "output_type": "execute_result",
     "data": {
      "text/plain": [
       "'Video Games'"
      ]
     },
     "metadata": {},
     "execution_count": 28
    }
   ],
   "metadata": {}
  },
  {
   "cell_type": "code",
   "execution_count": 29,
   "source": [
    "cat_slug = test = literal_eval(df['category'][0])['slug']\r\n",
    "cat_slug"
   ],
   "outputs": [
    {
     "output_type": "execute_result",
     "data": {
      "text/plain": [
       "'games/video games'"
      ]
     },
     "metadata": {},
     "execution_count": 29
    }
   ],
   "metadata": {}
  },
  {
   "cell_type": "code",
   "execution_count": 30,
   "source": [
    "df['profile']"
   ],
   "outputs": [
    {
     "output_type": "execute_result",
     "data": {
      "text/plain": [
       "0       {\"id\":2392547,\"project_id\":2392547,\"state\":\"in...\n",
       "1       {\"id\":1231322,\"project_id\":1231322,\"state\":\"in...\n",
       "2       {\"id\":3647622,\"project_id\":3647622,\"state\":\"in...\n",
       "3       {\"id\":2448666,\"project_id\":2448666,\"state\":\"in...\n",
       "4       {\"id\":1989796,\"project_id\":1989796,\"state\":\"in...\n",
       "                              ...                        \n",
       "3760    {\"id\":3013076,\"project_id\":3013076,\"state\":\"in...\n",
       "3761    {\"id\":2744783,\"project_id\":2744783,\"state\":\"in...\n",
       "3762    {\"id\":3281051,\"project_id\":3281051,\"state\":\"in...\n",
       "3763    {\"id\":1867979,\"project_id\":1867979,\"state\":\"in...\n",
       "3764    {\"id\":3035386,\"project_id\":3035386,\"state\":\"in...\n",
       "Name: profile, Length: 3765, dtype: object"
      ]
     },
     "metadata": {},
     "execution_count": 30
    }
   ],
   "metadata": {}
  },
  {
   "cell_type": "code",
   "execution_count": 31,
   "source": [
    "df['category']"
   ],
   "outputs": [
    {
     "output_type": "execute_result",
     "data": {
      "text/plain": [
       "0       {\"id\":35,\"name\":\"Video Games\",\"slug\":\"games/vi...\n",
       "1       {\"id\":304,\"name\":\"Bacon\",\"slug\":\"food/bacon\",\"...\n",
       "2       {\"id\":332,\"name\":\"Apps\",\"slug\":\"technology/app...\n",
       "3       {\"id\":361,\"name\":\"Web\",\"slug\":\"journalism/web\"...\n",
       "4       {\"id\":328,\"name\":\"Young Adult\",\"slug\":\"publish...\n",
       "                              ...                        \n",
       "3760    {\"id\":20,\"name\":\"Conceptual Art\",\"slug\":\"art/c...\n",
       "3761    {\"id\":361,\"name\":\"Web\",\"slug\":\"journalism/web\"...\n",
       "3762    {\"id\":280,\"name\":\"Photobooks\",\"slug\":\"photogra...\n",
       "3763    {\"id\":301,\"name\":\"Science Fiction\",\"slug\":\"fil...\n",
       "3764    {\"id\":293,\"name\":\"Drama\",\"slug\":\"film & video/...\n",
       "Name: category, Length: 3765, dtype: object"
      ]
     },
     "metadata": {},
     "execution_count": 31
    }
   ],
   "metadata": {}
  },
  {
   "cell_type": "code",
   "execution_count": 32,
   "source": [
    "# new = json.loads(df['category'])"
   ],
   "outputs": [],
   "metadata": {}
  },
  {
   "cell_type": "code",
   "execution_count": 33,
   "source": [
    "df.info()"
   ],
   "outputs": [
    {
     "output_type": "stream",
     "name": "stdout",
     "text": [
      "<class 'pandas.core.frame.DataFrame'>\n",
      "RangeIndex: 3765 entries, 0 to 3764\n",
      "Data columns (total 19 columns):\n",
      " #   Column                    Non-Null Count  Dtype  \n",
      "---  ------                    --------------  -----  \n",
      " 0   backers_count             3765 non-null   int64  \n",
      " 1   category                  3765 non-null   object \n",
      " 2   converted_pledged_amount  3765 non-null   int64  \n",
      " 3   country                   3765 non-null   object \n",
      " 4   currency                  3765 non-null   object \n",
      " 5   currency_trailing_code    3765 non-null   bool   \n",
      " 6   current_currency          3765 non-null   object \n",
      " 7   fx_rate                   3765 non-null   float64\n",
      " 8   goal                      3765 non-null   float64\n",
      " 9   id                        3765 non-null   int64  \n",
      " 10  location                  3759 non-null   object \n",
      " 11  pledged                   3765 non-null   float64\n",
      " 12  profile                   3765 non-null   object \n",
      " 13  spotlight                 3765 non-null   bool   \n",
      " 14  staff_pick                3765 non-null   bool   \n",
      " 15  state                     3765 non-null   object \n",
      " 16  static_usd_rate           3765 non-null   float64\n",
      " 17  usd_pledged               3765 non-null   float64\n",
      " 18  usd_type                  3761 non-null   object \n",
      "dtypes: bool(3), float64(5), int64(3), object(8)\n",
      "memory usage: 481.8+ KB\n"
     ]
    }
   ],
   "metadata": {}
  },
  {
   "cell_type": "code",
   "execution_count": 34,
   "source": [
    "def null_count_df(df):\r\n",
    "    frame=pd.DataFrame()\r\n",
    "    frame['missing_no']=df.isnull().sum()\r\n",
    "    frame['missing_rate']=df.isnull().sum()/len(df)\r\n",
    "    frame=frame.loc[frame['missing_rate']>0].sort_values(by='missing_rate',ascending=False)\r\n",
    "    frame['bigger_005']=frame['missing_rate'].map(lambda x:1 if x>=0.05 else 0)\r\n",
    "    return frame"
   ],
   "outputs": [],
   "metadata": {}
  },
  {
   "cell_type": "code",
   "execution_count": 35,
   "source": [
    "null_count_df(df)"
   ],
   "outputs": [
    {
     "output_type": "execute_result",
     "data": {
      "text/html": [
       "<div>\n",
       "<style scoped>\n",
       "    .dataframe tbody tr th:only-of-type {\n",
       "        vertical-align: middle;\n",
       "    }\n",
       "\n",
       "    .dataframe tbody tr th {\n",
       "        vertical-align: top;\n",
       "    }\n",
       "\n",
       "    .dataframe thead th {\n",
       "        text-align: right;\n",
       "    }\n",
       "</style>\n",
       "<table border=\"1\" class=\"dataframe\">\n",
       "  <thead>\n",
       "    <tr style=\"text-align: right;\">\n",
       "      <th></th>\n",
       "      <th>missing_no</th>\n",
       "      <th>missing_rate</th>\n",
       "      <th>bigger_005</th>\n",
       "    </tr>\n",
       "  </thead>\n",
       "  <tbody>\n",
       "    <tr>\n",
       "      <th>location</th>\n",
       "      <td>6</td>\n",
       "      <td>0.001594</td>\n",
       "      <td>0</td>\n",
       "    </tr>\n",
       "    <tr>\n",
       "      <th>usd_type</th>\n",
       "      <td>4</td>\n",
       "      <td>0.001062</td>\n",
       "      <td>0</td>\n",
       "    </tr>\n",
       "  </tbody>\n",
       "</table>\n",
       "</div>"
      ],
      "text/plain": [
       "          missing_no  missing_rate  bigger_005\n",
       "location           6      0.001594           0\n",
       "usd_type           4      0.001062           0"
      ]
     },
     "metadata": {},
     "execution_count": 35
    }
   ],
   "metadata": {}
  },
  {
   "cell_type": "code",
   "execution_count": 36,
   "source": [
    "df['spotlight']"
   ],
   "outputs": [
    {
     "output_type": "execute_result",
     "data": {
      "text/plain": [
       "0        True\n",
       "1        True\n",
       "2       False\n",
       "3       False\n",
       "4       False\n",
       "        ...  \n",
       "3760    False\n",
       "3761     True\n",
       "3762     True\n",
       "3763    False\n",
       "3764    False\n",
       "Name: spotlight, Length: 3765, dtype: bool"
      ]
     },
     "metadata": {},
     "execution_count": 36
    }
   ],
   "metadata": {}
  },
  {
   "cell_type": "code",
   "execution_count": 37,
   "source": [
    "zero_count(df)"
   ],
   "outputs": [
    {
     "output_type": "error",
     "ename": "NameError",
     "evalue": "name 'zero_count' is not defined",
     "traceback": [
      "\u001b[1;31m---------------------------------------------------------------------------\u001b[0m",
      "\u001b[1;31mNameError\u001b[0m                                 Traceback (most recent call last)",
      "\u001b[1;32m~\\AppData\\Local\\Temp/ipykernel_3360/719798667.py\u001b[0m in \u001b[0;36m<module>\u001b[1;34m\u001b[0m\n\u001b[1;32m----> 1\u001b[1;33m \u001b[0mzero_count\u001b[0m\u001b[1;33m(\u001b[0m\u001b[0mdf\u001b[0m\u001b[1;33m)\u001b[0m\u001b[1;33m\u001b[0m\u001b[1;33m\u001b[0m\u001b[0m\n\u001b[0m",
      "\u001b[1;31mNameError\u001b[0m: name 'zero_count' is not defined"
     ]
    }
   ],
   "metadata": {}
  },
  {
   "cell_type": "code",
   "execution_count": null,
   "source": [
    "df['spotlight'].value_counts()"
   ],
   "outputs": [],
   "metadata": {}
  },
  {
   "cell_type": "code",
   "execution_count": null,
   "source": [
    "df['category'].value_counts()"
   ],
   "outputs": [],
   "metadata": {}
  },
  {
   "cell_type": "code",
   "execution_count": null,
   "source": [],
   "outputs": [],
   "metadata": {}
  }
 ],
 "metadata": {
  "orig_nbformat": 4,
  "language_info": {
   "name": "python",
   "version": "3.9.1",
   "mimetype": "text/x-python",
   "codemirror_mode": {
    "name": "ipython",
    "version": 3
   },
   "pygments_lexer": "ipython3",
   "nbconvert_exporter": "python",
   "file_extension": ".py"
  },
  "kernelspec": {
   "name": "python3",
   "display_name": "Python 3.9.1 64-bit"
  },
  "interpreter": {
   "hash": "b56204e04fac71cbe4e15d7b3dab17d89d2f24d87d00adcaa585640e5d78c50d"
  }
 },
 "nbformat": 4,
 "nbformat_minor": 2
}