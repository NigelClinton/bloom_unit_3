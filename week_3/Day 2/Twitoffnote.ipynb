{
 "cells": [
  {
   "cell_type": "markdown",
   "source": [
    "# Using Tweepy\r\n",
    "* https://docs.tweepy.org/en/stable/getting_started.html\r\n",
    "* https://developer.twitter.com/en/docs/tutorials/step-by-step-guide-to-making-your-first-request-to-the-twitter-api-v2\r\n"
   ],
   "metadata": {}
  },
  {
   "cell_type": "code",
   "execution_count": 1,
   "source": [
    "import tweepy"
   ],
   "outputs": [],
   "metadata": {}
  },
  {
   "cell_type": "markdown",
   "source": [
    "* Import Libary\r\n",
    "* Set the API keys as variables"
   ],
   "metadata": {}
  },
  {
   "cell_type": "code",
   "execution_count": 2,
   "source": [
    "# Variables to auth to tweepy\r\n",
    "TWITTER_API_KEY =\r\n",
    "TWITTER_API_KEY_SECRET ="
   ],
   "outputs": [
    {
     "output_type": "error",
     "ename": "SyntaxError",
     "evalue": "invalid syntax (Temp/ipykernel_7844/4103647747.py, line 2)",
     "traceback": [
      "\u001b[1;36m  File \u001b[1;32m\"C:\\Users\\nigel\\AppData\\Local\\Temp/ipykernel_7844/4103647747.py\"\u001b[1;36m, line \u001b[1;32m2\u001b[0m\n\u001b[1;33m    TWITTER_API_KEY =\u001b[0m\n\u001b[1;37m                     ^\u001b[0m\n\u001b[1;31mSyntaxError\u001b[0m\u001b[1;31m:\u001b[0m invalid syntax\n"
     ]
    }
   ],
   "metadata": {}
  },
  {
   "cell_type": "code",
   "execution_count": null,
   "source": [
    "# This is to set authentication\r\n",
    "auth = tweepy.OAuthHandler(TWITTER_API_KEY, TWITTER_API_KEY_SECRET)"
   ],
   "outputs": [],
   "metadata": {}
  },
  {
   "cell_type": "code",
   "execution_count": null,
   "source": [
    "# Checking Auth\r\n",
    "auth"
   ],
   "outputs": [],
   "metadata": {}
  },
  {
   "cell_type": "code",
   "execution_count": null,
   "source": [
    "# Setting the variable for Tweepy API link to where we auth'd to\r\n",
    "twitter = tweepy.API(auth)"
   ],
   "outputs": [],
   "metadata": {}
  },
  {
   "cell_type": "code",
   "execution_count": null,
   "source": [
    "# Pulls all tweets from Nasa\r\n",
    "nasa = twitter.get_user(\"nasa\")"
   ],
   "outputs": [],
   "metadata": {}
  },
  {
   "cell_type": "code",
   "execution_count": null,
   "source": [
    "# Checking what it pulled\r\n",
    "nasa"
   ],
   "outputs": [],
   "metadata": {}
  },
  {
   "cell_type": "code",
   "execution_count": null,
   "source": [
    "# Pulls the location specified from twitter user profile\r\n",
    "nasa.location"
   ],
   "outputs": [],
   "metadata": {}
  },
  {
   "cell_type": "code",
   "execution_count": null,
   "source": [
    "# When the user account was created\r\n",
    "nasa.created_at"
   ],
   "outputs": [],
   "metadata": {}
  },
  {
   "cell_type": "code",
   "execution_count": null,
   "source": [
    "# pulls the description from the user profile\r\n",
    "nasa.description"
   ],
   "outputs": [],
   "metadata": {}
  },
  {
   "cell_type": "code",
   "execution_count": null,
   "source": [
    "# setting Jeff bazos as a variable for pulling data\r\n",
    "jeff = twitter.get_user(\"jeffbezos\")"
   ],
   "outputs": [],
   "metadata": {}
  },
  {
   "cell_type": "code",
   "execution_count": null,
   "source": [
    "#\r\n",
    "jeff"
   ],
   "outputs": [],
   "metadata": {}
  },
  {
   "cell_type": "code",
   "execution_count": null,
   "source": [
    "jeff.description"
   ],
   "outputs": [],
   "metadata": {}
  },
  {
   "cell_type": "markdown",
   "source": [
    "# Pulls all friends from a user to see a comprehensive list of who they're following.\r\n",
    "* for loop created to pull all users the specified account is following.\r\n",
    "* print statement to show the list of users."
   ],
   "metadata": {}
  },
  {
   "cell_type": "code",
   "execution_count": null,
   "source": [
    "# pulls all friends from the user\r\n",
    "for friend in jeff.friends():\r\n",
    "    print(friend.screen_name)"
   ],
   "outputs": [],
   "metadata": {}
  },
  {
   "cell_type": "code",
   "execution_count": null,
   "source": [
    "# Pulls all friends from the user\r\n",
    "for friend in nasa.friends():\r\n",
    "    print(friend.screen_name)"
   ],
   "outputs": [],
   "metadata": {}
  },
  {
   "cell_type": "markdown",
   "source": [
    "# Pulls all recient tweets from a specified user\r\n",
    "* Pulls tweets into a format that we can then specify how many, if we want replies, if we want retweets, and specify the mode.\r\n",
    "* We then can specify the tweet we want to look by drilling into the list. \r\n",
    "* The tweet [0] will always return the latest tweet from the user."
   ],
   "metadata": {}
  },
  {
   "cell_type": "code",
   "execution_count": null,
   "source": [
    "jeff_tweets = jeff.timeline(count=200, exclude_replies=True, include_rts=False, tweet_mode=\"Extended\")"
   ],
   "outputs": [],
   "metadata": {}
  },
  {
   "cell_type": "code",
   "execution_count": null,
   "source": [
    "jeff_tweets[0].text"
   ],
   "outputs": [],
   "metadata": {}
  },
  {
   "cell_type": "code",
   "execution_count": null,
   "source": [
    "nasa_tweets = jeff.timeline(count=200, exclude_replies=True, include_rts=False, tweet_mode=\"Extended\")"
   ],
   "outputs": [],
   "metadata": {}
  },
  {
   "cell_type": "code",
   "execution_count": null,
   "source": [
    "nasa_tweets[0].text"
   ],
   "outputs": [],
   "metadata": {}
  },
  {
   "cell_type": "markdown",
   "source": [
    "# Import Libaries\r\n",
    "* Spacy\r\n",
    "    * https://spacy.io/usage\r\n",
    "    * You can select / download a specified language\r\n",
    "    * https://spacy.io/usage/spacy-101\r\n",
    "    * A overview of what Spacy Does\r\n",
    "* en_core_web_sm"
   ],
   "metadata": {}
  },
  {
   "cell_type": "code",
   "execution_count": null,
   "source": [
    "#\r\n",
    "import spacy"
   ],
   "outputs": [],
   "metadata": {}
  },
  {
   "cell_type": "code",
   "execution_count": null,
   "source": [
    "#\r\n",
    "import en_core_web_sm"
   ],
   "outputs": [],
   "metadata": {}
  },
  {
   "cell_type": "markdown",
   "source": [
    "Our goal is to take the data from these tweets and analyize the data\r\n",
    "* We will take two twitter users\r\n",
    "* Anaylize their tweets \r\n",
    "* Create a model that takes the tweets from the two users analyize it then predict which out of the two users would tweet a hypethetical tweet\r\n",
    "\r\n",
    "Word2vec is a technique for natural language processing. The algoirth uses a nureal network model to learn word associassions from a large corpus of text.\r\n",
    "Once trained such aa model can detect synonymous words or suggest additional words for a partial sentance. As the name implies word2vec represents each distinct word wit ha particular list of numbers called a vector. The vectors are chosen carefully such that a simple mathematic function indicates the elvel of semantic similarity between the words represented by those vectors."
   ],
   "metadata": {}
  },
  {
   "cell_type": "code",
   "execution_count": null,
   "source": [
    "# This is the english core model that we downloaded from spacy\r\n",
    "en_core_web_sm"
   ],
   "outputs": [],
   "metadata": {}
  },
  {
   "cell_type": "code",
   "execution_count": null,
   "source": [
    "# This is creating a natrual language processing model for the english language\r\n",
    "npl_model = en_core_web_sm.load()"
   ],
   "outputs": [],
   "metadata": {}
  },
  {
   "cell_type": "code",
   "execution_count": null,
   "source": [
    "#This is the object of the natural language processing model\r\n",
    "nlp_model"
   ],
   "outputs": [],
   "metadata": {}
  },
  {
   "cell_type": "code",
   "execution_count": null,
   "source": [
    "# This is creating a variable name for the \"Hello world\" being processed then creating a vector\r\n",
    "word2vec = npl_model('Hello World').vector"
   ],
   "outputs": [],
   "metadata": {}
  },
  {
   "cell_type": "code",
   "execution_count": null,
   "source": [
    "# Previewing the array of numbers created from the statement above\r\n",
    "# This model has taken \"hello world\" and turned it into a numeric representation\r\n",
    "world2vec"
   ],
   "outputs": [],
   "metadata": {}
  },
  {
   "cell_type": "code",
   "execution_count": null,
   "source": [
    "# assigning the variable for nasa's last tweet in NLP\r\n",
    "# This is creating a NPL model to anaylize the last tweet of nasa\r\n",
    "# Then creating the tweet into a vector\r\n",
    "world2vec_nasa_last_tweet = npl_model(nasa_tweets[0].text).vector"
   ],
   "outputs": [],
   "metadata": {}
  },
  {
   "cell_type": "code",
   "execution_count": null,
   "source": [
    "# Preview of the NLP vector\r\n",
    "world2vec_nasa_last_tweet"
   ],
   "outputs": [],
   "metadata": {}
  },
  {
   "cell_type": "code",
   "execution_count": null,
   "source": [
    "# Not only can we load the model, we can save the model too.\r\n",
    "# Why do we want to save it?\r\n",
    "# We can save it incase if we want to use it later.\r\n",
    "# when you have created your web application, you don't want to be pulling information all the time.\r\n",
    "# What you want to run your analyiss on is your saved models.\r\n",
    "nlp_model.to_disk('my_nlp_model')"
   ],
   "outputs": [],
   "metadata": {}
  },
  {
   "cell_type": "code",
   "execution_count": null,
   "source": [
    "# This is taking the saved model, assigning it to a variable, then loading it.\r\n",
    "nlp_model2 = spacy.load('my_npl_model')"
   ],
   "outputs": [],
   "metadata": {}
  },
  {
   "cell_type": "code",
   "execution_count": null,
   "source": [
    "# This converts the 'Hello world' String into the saved model to see if what we did before matches\r\n",
    "world2vec = nlp_model2('Hello World').vector"
   ],
   "outputs": [],
   "metadata": {}
  },
  {
   "cell_type": "code",
   "execution_count": null,
   "source": [
    "# This is a preview of the statement above\r\n",
    "# This is more of an eyeball to see if the model that was created above matches this content\r\n",
    "world2vec"
   ],
   "outputs": [],
   "metadata": {}
  },
  {
   "cell_type": "code",
   "execution_count": null,
   "source": [
    "# Doing the same thing to check the last tweet from Nasa\r\n",
    "world2vec_nasa_last_tweet_2 = nlp_model2(nasa_tweets[0].text).vector"
   ],
   "outputs": [],
   "metadata": {}
  },
  {
   "cell_type": "code",
   "execution_count": null,
   "source": [
    "# Preview of the data to ensure the vectors match\r\n",
    "# When using the \"last tweet from user\" if the user has tweeted in the time of testing\r\n",
    "# The data will be inconsistant due to the new data\r\n",
    "world2vec_nasa_last_tweet_2"
   ],
   "outputs": [],
   "metadata": {}
  },
  {
   "cell_type": "code",
   "execution_count": null,
   "source": [
    "import ast # for unpacking the literal string object \r\n",
    "import requests\r\n",
    "import pandas as pd\r\n",
    "\r\n",
    "status = requests.get(\"https://lambda-ds-twit-assist.herokuapp.com/user/elonmusk\")\r\n",
    "elon = ast.literal_eval(status.text)"
   ],
   "outputs": [],
   "metadata": {}
  },
  {
   "cell_type": "code",
   "execution_count": null,
   "source": [
    "# Input by the user\r\n",
    "user_name = \"elonmusk\"\r\n",
    "\r\n",
    "# Request\r\n",
    "req = \"https://lambda-ds-twit-assist.herokuapp.com/user/\"\r\n",
    "\r\n",
    "# Concat\r\n",
    "test = req+user_name"
   ],
   "outputs": [
    {
     "output_type": "execute_result",
     "data": {
      "text/plain": [
       "'https://lambda-ds-twit-assist.herokuapp.com/user/elonmusk'"
      ]
     },
     "metadata": {},
     "execution_count": 156
    }
   ],
   "metadata": {}
  },
  {
   "cell_type": "code",
   "execution_count": null,
   "source": [
    "elon"
   ],
   "outputs": [
    {
     "output_type": "execute_result",
     "data": {
      "text/plain": [
       "{'twitter_handle': {'username': 'elonmusk', 'id': 44196397},\n",
       " 'tweets': [{'id': 1437547516439015424, 'full_text': '⛽️💡'},\n",
       "  {'id': 1437220114613555202, 'full_text': 'Gravitas https://t.co/DyIcmeKxz7'},\n",
       "  {'id': 1437204825800851460,\n",
       "   'full_text': 'Emojilution https://t.co/oXfiGkpdkO'},\n",
       "  {'id': 1437179881260032016,\n",
       "   'full_text': 'Floki has arrived https://t.co/2MiUKb91FT'},\n",
       "  {'id': 1437112222698909697, 'full_text': 'https://t.co/3c18VldRrn'},\n",
       "  {'id': 1436283089215442968, 'full_text': 'Metallurgy Rūlz'},\n",
       "  {'id': 1436265776550490112,\n",
       "   'full_text': 'POV Hardcore https://t.co/8SmXeGfpY7'},\n",
       "  {'id': 1436086743720251394,\n",
       "   'full_text': 'Tesla Model S Plaid just set official world speed record for a production electric car at Nurburgring. Completely unmodified, directly from factory. https://t.co/AaiFtfW5Ht'},\n",
       "  {'id': 1433713164546293767, 'full_text': 'Time is the ultimate currency'},\n",
       "  {'id': 1433226358398734337,\n",
       "   'full_text': 'FSD Beta 10 rolls out midnight Friday next week'},\n",
       "  {'id': 1432818021836357634, 'full_text': 'https://t.co/YUt6Ltz2B6'},\n",
       "  {'id': 1432497810004402177,\n",
       "   'full_text': 'The dark side of OnlyFans … https://t.co/EpMP1q62jn'},\n",
       "  {'id': 1432494177674203143,\n",
       "   'full_text': 'Time to stop projecting &amp; cool off https://t.co/gULCBmoxjy'},\n",
       "  {'id': 1432491362105143298,\n",
       "   'full_text': 'No worries, situation is under control https://t.co/EUkcGRdBPw'},\n",
       "  {'id': 1432270085415124995,\n",
       "   'full_text': 'SpaceX will try to catch largest ever flying object with robot chopsticks.\\n\\nSuccess is not guaranteed, but excitement is!\\n\\nhttps://t.co/75yMgIWOwE'},\n",
       "  {'id': 1431867661164687360,\n",
       "   'full_text': 'Falcon about to launch Dragon to @Space_Station https://t.co/bDd3GxQXMC'},\n",
       "  {'id': 1431762773185376262,\n",
       "   'full_text': 'Flying over Starbase https://t.co/poSDG3pIq8'},\n",
       "  {'id': 1431717794001850373, 'full_text': 'https://t.co/oXYnEUZW18'},\n",
       "  {'id': 1430654259255783424, 'full_text': '✌️ https://t.co/lwg9Ke6cjP'},\n",
       "  {'id': 1429907171639103489,\n",
       "   'full_text': '100k terminals shipped!\\nhttps://t.co/Q1VvqVmJ2i'},\n",
       "  {'id': 1429898852673343524,\n",
       "   'full_text': 'The Guns of August https://t.co/m7J2sJVNIT'}]}"
      ]
     },
     "metadata": {},
     "execution_count": 10
    }
   ],
   "metadata": {}
  },
  {
   "cell_type": "code",
   "execution_count": null,
   "source": [
    "test = requests.get(\"https://lambda-ds-twit-assist.herokuapp.com/user/user\")"
   ],
   "outputs": [],
   "metadata": {}
  },
  {
   "cell_type": "code",
   "execution_count": null,
   "source": [
    "elon['tweets']"
   ],
   "outputs": [
    {
     "output_type": "execute_result",
     "data": {
      "text/plain": [
       "[{'id': 1437547516439015424, 'full_text': '⛽️💡'},\n",
       " {'id': 1437220114613555202, 'full_text': 'Gravitas https://t.co/DyIcmeKxz7'},\n",
       " {'id': 1437204825800851460,\n",
       "  'full_text': 'Emojilution https://t.co/oXfiGkpdkO'},\n",
       " {'id': 1437179881260032016,\n",
       "  'full_text': 'Floki has arrived https://t.co/2MiUKb91FT'},\n",
       " {'id': 1437112222698909697, 'full_text': 'https://t.co/3c18VldRrn'},\n",
       " {'id': 1436283089215442968, 'full_text': 'Metallurgy Rūlz'},\n",
       " {'id': 1436265776550490112,\n",
       "  'full_text': 'POV Hardcore https://t.co/8SmXeGfpY7'},\n",
       " {'id': 1436086743720251394,\n",
       "  'full_text': 'Tesla Model S Plaid just set official world speed record for a production electric car at Nurburgring. Completely unmodified, directly from factory. https://t.co/AaiFtfW5Ht'},\n",
       " {'id': 1433713164546293767, 'full_text': 'Time is the ultimate currency'},\n",
       " {'id': 1433226358398734337,\n",
       "  'full_text': 'FSD Beta 10 rolls out midnight Friday next week'},\n",
       " {'id': 1432818021836357634, 'full_text': 'https://t.co/YUt6Ltz2B6'},\n",
       " {'id': 1432497810004402177,\n",
       "  'full_text': 'The dark side of OnlyFans … https://t.co/EpMP1q62jn'},\n",
       " {'id': 1432494177674203143,\n",
       "  'full_text': 'Time to stop projecting &amp; cool off https://t.co/gULCBmoxjy'},\n",
       " {'id': 1432491362105143298,\n",
       "  'full_text': 'No worries, situation is under control https://t.co/EUkcGRdBPw'},\n",
       " {'id': 1432270085415124995,\n",
       "  'full_text': 'SpaceX will try to catch largest ever flying object with robot chopsticks.\\n\\nSuccess is not guaranteed, but excitement is!\\n\\nhttps://t.co/75yMgIWOwE'},\n",
       " {'id': 1431867661164687360,\n",
       "  'full_text': 'Falcon about to launch Dragon to @Space_Station https://t.co/bDd3GxQXMC'},\n",
       " {'id': 1431762773185376262,\n",
       "  'full_text': 'Flying over Starbase https://t.co/poSDG3pIq8'},\n",
       " {'id': 1431717794001850373, 'full_text': 'https://t.co/oXYnEUZW18'},\n",
       " {'id': 1430654259255783424, 'full_text': '✌️ https://t.co/lwg9Ke6cjP'},\n",
       " {'id': 1429907171639103489,\n",
       "  'full_text': '100k terminals shipped!\\nhttps://t.co/Q1VvqVmJ2i'},\n",
       " {'id': 1429898852673343524,\n",
       "  'full_text': 'The Guns of August https://t.co/m7J2sJVNIT'}]"
      ]
     },
     "metadata": {},
     "execution_count": 11
    }
   ],
   "metadata": {}
  },
  {
   "cell_type": "code",
   "execution_count": null,
   "source": [
    "elon['tweets'][0]['full_text']"
   ],
   "outputs": [
    {
     "output_type": "execute_result",
     "data": {
      "text/plain": [
       "'⛽️💡'"
      ]
     },
     "metadata": {},
     "execution_count": 12
    }
   ],
   "metadata": {}
  },
  {
   "cell_type": "code",
   "execution_count": null,
   "source": [
    "elon['twitter_handle']['username']"
   ],
   "outputs": [
    {
     "output_type": "execute_result",
     "data": {
      "text/plain": [
       "'elonmusk'"
      ]
     },
     "metadata": {},
     "execution_count": 13
    }
   ],
   "metadata": {}
  },
  {
   "cell_type": "code",
   "execution_count": null,
   "source": [
    "# Create table that includes user ID as index, and user name as column value\r\n",
    "user_info=pd.DataFrame({'user_name': elon['twitter_handle']['username']},index=[elon['twitter_handle']['id']])"
   ],
   "outputs": [],
   "metadata": {}
  },
  {
   "cell_type": "code",
   "execution_count": null,
   "source": [
    "user_info"
   ],
   "outputs": [
    {
     "output_type": "execute_result",
     "data": {
      "text/html": [
       "<div>\n",
       "<style scoped>\n",
       "    .dataframe tbody tr th:only-of-type {\n",
       "        vertical-align: middle;\n",
       "    }\n",
       "\n",
       "    .dataframe tbody tr th {\n",
       "        vertical-align: top;\n",
       "    }\n",
       "\n",
       "    .dataframe thead th {\n",
       "        text-align: right;\n",
       "    }\n",
       "</style>\n",
       "<table border=\"1\" class=\"dataframe\">\n",
       "  <thead>\n",
       "    <tr style=\"text-align: right;\">\n",
       "      <th></th>\n",
       "      <th>user_name</th>\n",
       "    </tr>\n",
       "  </thead>\n",
       "  <tbody>\n",
       "    <tr>\n",
       "      <th>44196397</th>\n",
       "      <td>elonmusk</td>\n",
       "    </tr>\n",
       "  </tbody>\n",
       "</table>\n",
       "</div>"
      ],
      "text/plain": [
       "         user_name\n",
       "44196397  elonmusk"
      ]
     },
     "metadata": {},
     "execution_count": 15
    }
   ],
   "metadata": {}
  },
  {
   "cell_type": "code",
   "execution_count": null,
   "source": [
    "# Create table that includes tweet ID as index, and tweet as column value\r\n",
    "tweets = pd.DataFrame(elon['tweets']).set_index('id')"
   ],
   "outputs": [],
   "metadata": {}
  },
  {
   "cell_type": "code",
   "execution_count": null,
   "source": [
    "tweets"
   ],
   "outputs": [
    {
     "output_type": "execute_result",
     "data": {
      "text/html": [
       "<div>\n",
       "<style scoped>\n",
       "    .dataframe tbody tr th:only-of-type {\n",
       "        vertical-align: middle;\n",
       "    }\n",
       "\n",
       "    .dataframe tbody tr th {\n",
       "        vertical-align: top;\n",
       "    }\n",
       "\n",
       "    .dataframe thead th {\n",
       "        text-align: right;\n",
       "    }\n",
       "</style>\n",
       "<table border=\"1\" class=\"dataframe\">\n",
       "  <thead>\n",
       "    <tr style=\"text-align: right;\">\n",
       "      <th></th>\n",
       "      <th>full_text</th>\n",
       "    </tr>\n",
       "    <tr>\n",
       "      <th>id</th>\n",
       "      <th></th>\n",
       "    </tr>\n",
       "  </thead>\n",
       "  <tbody>\n",
       "    <tr>\n",
       "      <th>1437547516439015424</th>\n",
       "      <td>⛽️💡</td>\n",
       "    </tr>\n",
       "    <tr>\n",
       "      <th>1437220114613555202</th>\n",
       "      <td>Gravitas https://t.co/DyIcmeKxz7</td>\n",
       "    </tr>\n",
       "    <tr>\n",
       "      <th>1437204825800851460</th>\n",
       "      <td>Emojilution https://t.co/oXfiGkpdkO</td>\n",
       "    </tr>\n",
       "    <tr>\n",
       "      <th>1437179881260032016</th>\n",
       "      <td>Floki has arrived https://t.co/2MiUKb91FT</td>\n",
       "    </tr>\n",
       "    <tr>\n",
       "      <th>1437112222698909697</th>\n",
       "      <td>https://t.co/3c18VldRrn</td>\n",
       "    </tr>\n",
       "    <tr>\n",
       "      <th>1436283089215442968</th>\n",
       "      <td>Metallurgy Rūlz</td>\n",
       "    </tr>\n",
       "    <tr>\n",
       "      <th>1436265776550490112</th>\n",
       "      <td>POV Hardcore https://t.co/8SmXeGfpY7</td>\n",
       "    </tr>\n",
       "    <tr>\n",
       "      <th>1436086743720251394</th>\n",
       "      <td>Tesla Model S Plaid just set official world sp...</td>\n",
       "    </tr>\n",
       "    <tr>\n",
       "      <th>1433713164546293767</th>\n",
       "      <td>Time is the ultimate currency</td>\n",
       "    </tr>\n",
       "    <tr>\n",
       "      <th>1433226358398734337</th>\n",
       "      <td>FSD Beta 10 rolls out midnight Friday next week</td>\n",
       "    </tr>\n",
       "    <tr>\n",
       "      <th>1432818021836357634</th>\n",
       "      <td>https://t.co/YUt6Ltz2B6</td>\n",
       "    </tr>\n",
       "    <tr>\n",
       "      <th>1432497810004402177</th>\n",
       "      <td>The dark side of OnlyFans … https://t.co/EpMP1...</td>\n",
       "    </tr>\n",
       "    <tr>\n",
       "      <th>1432494177674203143</th>\n",
       "      <td>Time to stop projecting &amp;amp; cool off https:/...</td>\n",
       "    </tr>\n",
       "    <tr>\n",
       "      <th>1432491362105143298</th>\n",
       "      <td>No worries, situation is under control https:/...</td>\n",
       "    </tr>\n",
       "    <tr>\n",
       "      <th>1432270085415124995</th>\n",
       "      <td>SpaceX will try to catch largest ever flying o...</td>\n",
       "    </tr>\n",
       "    <tr>\n",
       "      <th>1431867661164687360</th>\n",
       "      <td>Falcon about to launch Dragon to @Space_Statio...</td>\n",
       "    </tr>\n",
       "    <tr>\n",
       "      <th>1431762773185376262</th>\n",
       "      <td>Flying over Starbase https://t.co/poSDG3pIq8</td>\n",
       "    </tr>\n",
       "    <tr>\n",
       "      <th>1431717794001850373</th>\n",
       "      <td>https://t.co/oXYnEUZW18</td>\n",
       "    </tr>\n",
       "    <tr>\n",
       "      <th>1430654259255783424</th>\n",
       "      <td>✌️ https://t.co/lwg9Ke6cjP</td>\n",
       "    </tr>\n",
       "    <tr>\n",
       "      <th>1429907171639103489</th>\n",
       "      <td>100k terminals shipped!\\nhttps://t.co/Q1VvqVmJ2i</td>\n",
       "    </tr>\n",
       "    <tr>\n",
       "      <th>1429898852673343524</th>\n",
       "      <td>The Guns of August https://t.co/m7J2sJVNIT</td>\n",
       "    </tr>\n",
       "  </tbody>\n",
       "</table>\n",
       "</div>"
      ],
      "text/plain": [
       "                                                             full_text\n",
       "id                                                                    \n",
       "1437547516439015424                                                ⛽️💡\n",
       "1437220114613555202                   Gravitas https://t.co/DyIcmeKxz7\n",
       "1437204825800851460                Emojilution https://t.co/oXfiGkpdkO\n",
       "1437179881260032016          Floki has arrived https://t.co/2MiUKb91FT\n",
       "1437112222698909697                            https://t.co/3c18VldRrn\n",
       "1436283089215442968                                    Metallurgy Rūlz\n",
       "1436265776550490112               POV Hardcore https://t.co/8SmXeGfpY7\n",
       "1436086743720251394  Tesla Model S Plaid just set official world sp...\n",
       "1433713164546293767                      Time is the ultimate currency\n",
       "1433226358398734337    FSD Beta 10 rolls out midnight Friday next week\n",
       "1432818021836357634                            https://t.co/YUt6Ltz2B6\n",
       "1432497810004402177  The dark side of OnlyFans … https://t.co/EpMP1...\n",
       "1432494177674203143  Time to stop projecting &amp; cool off https:/...\n",
       "1432491362105143298  No worries, situation is under control https:/...\n",
       "1432270085415124995  SpaceX will try to catch largest ever flying o...\n",
       "1431867661164687360  Falcon about to launch Dragon to @Space_Statio...\n",
       "1431762773185376262       Flying over Starbase https://t.co/poSDG3pIq8\n",
       "1431717794001850373                            https://t.co/oXYnEUZW18\n",
       "1430654259255783424                         ✌️ https://t.co/lwg9Ke6cjP\n",
       "1429907171639103489   100k terminals shipped!\\nhttps://t.co/Q1VvqVmJ2i\n",
       "1429898852673343524         The Guns of August https://t.co/m7J2sJVNIT"
      ]
     },
     "metadata": {},
     "execution_count": 17
    }
   ],
   "metadata": {}
  },
  {
   "cell_type": "code",
   "execution_count": null,
   "source": [
    "nlp_model = en_core_web_sm.load()"
   ],
   "outputs": [],
   "metadata": {}
  },
  {
   "cell_type": "code",
   "execution_count": null,
   "source": [
    "nlp_model"
   ],
   "outputs": [
    {
     "output_type": "execute_result",
     "data": {
      "text/plain": [
       "<spacy.lang.en.English at 0x27be33465e0>"
      ]
     },
     "metadata": {},
     "execution_count": 19
    }
   ],
   "metadata": {}
  },
  {
   "cell_type": "code",
   "execution_count": null,
   "source": [
    "nlp_model(elon['tweets'][0]['full_text']).vector"
   ],
   "outputs": [
    {
     "output_type": "execute_result",
     "data": {
      "text/plain": [
       "array([-0.04342934,  0.67311764, -0.00916324,  0.11294238,  0.08132198,\n",
       "       -0.5514043 ,  0.01075687, -0.37071088,  0.366922  ,  0.03394802,\n",
       "        0.54197073,  0.03875881,  0.2915994 ,  0.11274058,  0.64706874,\n",
       "        0.7563429 , -0.3185979 , -0.5408969 ,  0.09051806,  0.14626163,\n",
       "       -0.3006139 ,  0.15056625, -0.3857337 , -0.2415715 , -0.17157666,\n",
       "       -0.28858805, -0.1579427 ,  0.10492924,  0.4385445 , -0.6509318 ,\n",
       "       -0.23215675, -0.05178841,  0.43242034, -0.3829068 , -0.24471061,\n",
       "        0.2470897 , -0.65580446,  0.17897676, -0.49962297, -0.18358667,\n",
       "       -0.37472236, -0.16351418, -0.04678236, -0.03376226,  0.182339  ,\n",
       "       -0.01647496,  0.2712098 , -0.26480374, -0.05129166,  0.30859977,\n",
       "        0.6973664 , -0.15604687,  0.1700532 ,  0.25584778,  0.18567538,\n",
       "       -0.03419046,  0.02530148, -0.23818086,  0.13005501,  0.45257136,\n",
       "        0.15450083, -0.19508354,  0.70753366,  0.00613526, -0.00097158,\n",
       "       -0.14303982,  0.25898758, -0.42962715,  0.2324804 ,  0.0733833 ,\n",
       "       -0.4715959 , -0.14774708, -0.35585365,  0.5917902 , -0.23061395,\n",
       "       -0.2320507 , -0.39209536,  0.13573597, -0.5102818 , -0.16487615,\n",
       "       -0.06922567,  0.03459315,  0.6714303 , -0.33797696,  0.15928096,\n",
       "       -0.2802821 ,  0.2037047 ,  0.33317503,  0.3404924 ,  0.20634036,\n",
       "       -0.21211927,  0.29023305,  0.48487794,  0.78608364, -0.87877446,\n",
       "        0.0300888 ], dtype=float32)"
      ]
     },
     "metadata": {},
     "execution_count": 20
    }
   ],
   "metadata": {}
  },
  {
   "cell_type": "code",
   "execution_count": null,
   "source": [
    "new=[]\r\n",
    "for column in tweets['full_text']:\r\n",
    "    rev = nlp_model(column).vector\r\n",
    "    new.append(rev)"
   ],
   "outputs": [],
   "metadata": {}
  },
  {
   "cell_type": "code",
   "execution_count": null,
   "source": [
    "nlp_model.to_disk('new')"
   ],
   "outputs": [],
   "metadata": {}
  },
  {
   "cell_type": "code",
   "execution_count": null,
   "source": [
    "npl_model2 = spacy.load('my_npl_model')"
   ],
   "outputs": [],
   "metadata": {}
  },
  {
   "cell_type": "code",
   "execution_count": null,
   "source": [
    "new"
   ],
   "outputs": [
    {
     "output_type": "execute_result",
     "data": {
      "text/plain": [
       "[array([-0.04342934,  0.67311764, -0.00916324,  0.11294238,  0.08132198,\n",
       "        -0.5514043 ,  0.01075687, -0.37071088,  0.366922  ,  0.03394802,\n",
       "         0.54197073,  0.03875881,  0.2915994 ,  0.11274058,  0.64706874,\n",
       "         0.7563429 , -0.3185979 , -0.5408969 ,  0.09051806,  0.14626163,\n",
       "        -0.3006139 ,  0.15056625, -0.3857337 , -0.2415715 , -0.17157666,\n",
       "        -0.28858805, -0.1579427 ,  0.10492924,  0.4385445 , -0.6509318 ,\n",
       "        -0.23215675, -0.05178841,  0.43242034, -0.3829068 , -0.24471061,\n",
       "         0.2470897 , -0.65580446,  0.17897676, -0.49962297, -0.18358667,\n",
       "        -0.37472236, -0.16351418, -0.04678236, -0.03376226,  0.182339  ,\n",
       "        -0.01647496,  0.2712098 , -0.26480374, -0.05129166,  0.30859977,\n",
       "         0.6973664 , -0.15604687,  0.1700532 ,  0.25584778,  0.18567538,\n",
       "        -0.03419046,  0.02530148, -0.23818086,  0.13005501,  0.45257136,\n",
       "         0.15450083, -0.19508354,  0.70753366,  0.00613526, -0.00097158,\n",
       "        -0.14303982,  0.25898758, -0.42962715,  0.2324804 ,  0.0733833 ,\n",
       "        -0.4715959 , -0.14774708, -0.35585365,  0.5917902 , -0.23061395,\n",
       "        -0.2320507 , -0.39209536,  0.13573597, -0.5102818 , -0.16487615,\n",
       "        -0.06922567,  0.03459315,  0.6714303 , -0.33797696,  0.15928096,\n",
       "        -0.2802821 ,  0.2037047 ,  0.33317503,  0.3404924 ,  0.20634036,\n",
       "        -0.21211927,  0.29023305,  0.48487794,  0.78608364, -0.87877446,\n",
       "         0.0300888 ], dtype=float32),\n",
       " array([-0.6714139 , -0.13554418, -0.2759026 ,  0.16217384,  0.06686168,\n",
       "        -0.3888566 ,  0.21952535,  0.03066517, -0.2996571 ,  0.10373574,\n",
       "         0.33058757,  0.63035464, -0.04918277,  0.11948823,  0.7814858 ,\n",
       "         0.43838006, -0.0234255 , -0.58593184,  0.48606968, -0.07065741,\n",
       "         0.3442312 , -0.10072275, -0.05595148, -0.1587044 , -1.202754  ,\n",
       "        -0.0036427 ,  0.5044856 , -0.28518802,  0.32134807, -0.27170303,\n",
       "        -1.5528898 ,  0.8413696 ,  0.6553026 ,  0.319572  , -0.11700797,\n",
       "         0.8822118 , -0.35109666,  0.619792  ,  0.11950271,  0.4103048 ,\n",
       "        -0.09498101,  0.10594684, -0.17130283,  1.0455426 ,  0.36882663,\n",
       "        -0.41824752,  0.48587644, -0.03427784,  0.14671806,  0.30349332,\n",
       "         0.09464683,  0.295726  ,  0.71612155, -1.0546317 ,  0.05495305,\n",
       "        -0.3377673 , -0.01560127,  0.11772895,  0.3604498 , -0.4335761 ,\n",
       "         0.5448616 , -0.17610538,  0.5056884 , -0.34115624, -0.36339116,\n",
       "        -0.24616674, -0.27678218, -0.5221936 ,  0.50644124, -0.1574893 ,\n",
       "        -0.09245737, -0.07803239, -0.7039516 , -0.61058766, -0.1098688 ,\n",
       "         0.10165402,  0.11479773, -1.028525  , -0.0266863 ,  0.00305733,\n",
       "        -0.15188795, -0.392752  ,  0.24652807,  0.28759307, -0.30185702,\n",
       "        -0.25551265, -0.16867074, -0.5549807 ,  0.16137996, -0.09478398,\n",
       "        -0.44288158, -0.00408459,  0.14401971,  0.70001984, -0.05534498,\n",
       "         0.39346904], dtype=float32),\n",
       " array([-0.2965111 , -0.36956552, -0.06594685,  0.04391901,  0.10795597,\n",
       "        -0.8692695 ,  0.2632911 , -1.1534617 , -0.33282322,  0.20377454,\n",
       "         0.47775257, -0.44925413,  0.3810807 ,  0.7771477 ,  0.00474901,\n",
       "         0.04444078,  0.36050364, -0.35786492,  0.0378707 , -0.63571763,\n",
       "         0.04340695, -0.27863777, -0.13410044,  0.1670629 , -0.10134152,\n",
       "         0.09729391,  0.23604983, -0.08422154,  0.676962  , -0.11451545,\n",
       "        -0.17707714, -0.00116313,  0.3040437 , -0.08978327,  0.46451777,\n",
       "         0.44599825, -1.0192163 , -0.2609877 ,  0.6638191 , -0.30361053,\n",
       "        -0.19643947, -0.03228828,  0.4211499 ,  0.978455  ,  0.01714307,\n",
       "        -0.5157605 ,  0.18169977, -0.27172434, -0.25362122,  0.01057834,\n",
       "         0.30644616,  0.8860172 ,  0.5204587 , -0.13967323, -0.3108272 ,\n",
       "        -0.63515526,  0.14492023,  0.19844392,  0.55270267,  0.21120092,\n",
       "         0.430083  , -0.1639836 ,  0.27488583, -0.2767144 ,  0.22897923,\n",
       "        -0.6201163 , -0.62483704, -1.0927986 ,  0.16425145,  0.44204265,\n",
       "         0.07599293, -0.20769393,  0.02188508, -0.27578545, -0.20106807,\n",
       "         0.8658265 ,  0.28557536, -1.0009601 , -0.3961736 ,  0.6764349 ,\n",
       "         0.30092305, -0.24137422,  0.261844  ,  0.2373404 , -1.004914  ,\n",
       "        -0.29469347,  0.11905885, -0.69072425,  0.4322835 , -0.45257285,\n",
       "        -0.46438044,  0.6655092 ,  0.47451434,  0.63133067, -0.10127038,\n",
       "        -0.30184686], dtype=float32),\n",
       " array([-0.2868331 , -0.60698783, -0.72999406,  0.11346424,  0.29506552,\n",
       "         0.3182263 , -0.3257133 , -0.06847265, -0.28757688, -0.15399916,\n",
       "         0.2152977 ,  0.17057976,  0.2392515 ,  0.35801423, -0.17515686,\n",
       "         0.07684252, -0.05175655,  0.2387393 , -0.19055036, -0.24987826,\n",
       "         0.43013796, -0.24656682, -0.00912733,  0.5129527 ,  0.15142393,\n",
       "        -0.21649253, -0.28493246, -0.03193229,  0.18869561,  0.28990033,\n",
       "         0.11218204,  0.4030139 ,  0.1286429 , -0.03230195,  0.01183778,\n",
       "         0.29972708, -0.1126656 ,  0.05925801,  0.2839158 , -0.05696468,\n",
       "        -0.22543883,  0.9032869 , -0.3570484 ,  0.01122375,  0.1304284 ,\n",
       "         0.03273987,  0.4150859 ,  0.19101715,  0.05154669, -0.3742923 ,\n",
       "         0.2919848 ,  0.6137234 ,  0.4071541 ,  0.2923252 , -0.38930613,\n",
       "         0.09166655,  0.10011792,  0.35138556,  0.80661136, -0.21588865,\n",
       "         0.0277928 , -0.03674579, -0.41343182, -0.28764117,  0.07129936,\n",
       "        -0.6111901 , -0.57078934, -0.14446028,  0.0197995 , -0.576404  ,\n",
       "        -0.23500988,  0.6302973 , -0.5204942 , -0.73861635, -0.50887054,\n",
       "         0.3449863 ,  0.33211708,  0.00602092, -0.79674375, -0.2963206 ,\n",
       "        -0.16243026, -0.34472865,  0.04222819,  0.65261567, -0.18260372,\n",
       "        -0.2263835 , -0.25903133,  0.12607065,  0.11077021, -0.59368575,\n",
       "        -0.56053245,  0.39478713, -0.24927077,  0.8466368 ,  0.5628929 ,\n",
       "        -0.12762895], dtype=float32),\n",
       " array([ 6.1488169e-01,  3.3584642e-01,  1.5241775e-01,  9.3000233e-02,\n",
       "         3.7260813e-01, -1.1265527e+00, -2.1222533e-01, -1.0985126e+00,\n",
       "        -4.4442251e-01,  4.6234608e-01,  4.7954723e-01, -7.1636641e-01,\n",
       "         8.8526040e-02,  1.0146798e-01, -4.5763850e-03,  7.1625328e-01,\n",
       "         3.2264256e-01, -8.7277162e-01,  4.5371771e-02, -6.2336802e-01,\n",
       "         1.7410299e-01, -7.0467192e-01, -7.4104339e-02,  4.2934516e-01,\n",
       "        -4.3727607e-01,  2.2351956e-01,  2.7012640e-01,  8.0780536e-02,\n",
       "         5.9600854e-01,  7.6611018e-01, -3.8826582e-01,  5.5570668e-01,\n",
       "         9.8836446e-01, -5.1288450e-01,  9.6771634e-01, -7.1944350e-01,\n",
       "        -2.2127759e-01,  4.0250847e-01, -5.9985518e-01,  4.8439801e-01,\n",
       "        -3.6314589e-01, -5.1919973e-01,  1.3585210e-01,  1.7946306e+00,\n",
       "         1.7813575e-02, -3.8111217e-02,  3.6511235e-03, -7.3618668e-01,\n",
       "        -2.5697091e-01, -4.8414767e-03,  5.4798675e-01, -6.0205555e-01,\n",
       "        -7.3774755e-02, -1.3326409e+00,  7.9771504e-02,  4.3160000e-01,\n",
       "         1.2736213e-01, -9.6192747e-01,  1.9486725e-02, -8.0810532e-02,\n",
       "         1.5741661e-01,  2.4035031e-01, -4.8860520e-02, -4.3296638e-01,\n",
       "        -5.4205728e-01,  1.8410909e-01, -1.8774953e-01, -6.0713190e-01,\n",
       "         2.2690070e-01,  1.1138798e+00,  3.3464491e-01, -8.4704232e-01,\n",
       "         9.9358574e-02, -5.2693462e-01, -7.0486024e-02, -1.4392394e-01,\n",
       "         3.7464455e-01, -8.5800946e-01, -3.3938929e-01, -7.1943492e-01,\n",
       "         9.7946364e-01, -5.2094132e-02,  4.1239348e-01, -5.4202867e-01,\n",
       "        -1.1229422e+00,  7.1633524e-01, -8.8273540e-02, -3.7602228e-01,\n",
       "         9.9491692e-01, -3.7809581e-02, -8.9810550e-01,  1.8070352e+00,\n",
       "         1.5054792e-03, -6.3862950e-02, -8.8712513e-01, -2.3023048e-01],\n",
       "       dtype=float32),\n",
       " array([-0.60476434, -0.4177128 ,  0.6060922 ,  0.22015274,  0.57768196,\n",
       "        -0.1337273 , -0.80387926,  0.25415808, -0.29659092, -0.29161376,\n",
       "         1.1695906 , -0.40570113, -0.29002893, -0.21683703, -0.21749169,\n",
       "         0.02510696,  0.5120915 ,  0.4738358 , -0.20852897,  0.00897369,\n",
       "        -0.388502  ,  0.15555578, -0.47952205,  0.19661802, -0.54445255,\n",
       "        -0.49784118,  0.11901008, -0.36082405,  0.2941555 ,  0.02945037,\n",
       "         0.18699558, -0.05537096, -0.4369672 , -0.05477284,  0.09243517,\n",
       "         0.3869262 , -0.94549847,  1.1320677 ,  0.77859247,  0.24639691,\n",
       "        -0.17337498,  0.18702993, -0.5817958 ,  0.23542272,  0.56385195,\n",
       "        -0.3563739 ,  0.5738148 , -0.162525  , -0.49597073, -0.1551525 ,\n",
       "         0.5540769 , -0.3313161 , -0.5701208 , -0.30156073, -0.22022441,\n",
       "        -0.3956373 ,  0.4585464 ,  0.5015347 ,  0.28795794,  0.11467344,\n",
       "         0.3944635 , -0.4537371 ,  0.26638746, -0.01282273,  0.23972267,\n",
       "        -0.2738731 , -0.6932196 ,  0.17226917,  0.32929817, -0.42589974,\n",
       "        -0.16173446,  0.6959691 , -0.59950435, -0.6752683 , -0.47292548,\n",
       "         0.8936727 ,  0.00854969, -0.69753647, -0.34218824,  0.58843446,\n",
       "         0.20355769, -0.24960172,  0.05619404,  0.7418855 , -0.6816319 ,\n",
       "        -0.47345263, -0.1249169 , -1.1256963 ,  0.12603542,  0.2949758 ,\n",
       "        -0.57327807,  0.15265836,  0.3257204 ,  0.44425434,  0.3147327 ,\n",
       "        -0.14923191], dtype=float32),\n",
       " array([-0.19387716, -0.66241175, -0.37200984,  0.34892234,  0.44683632,\n",
       "        -1.0621744 , -0.4768789 , -0.8517701 , -0.56901693,  0.51512057,\n",
       "         0.50608104, -0.29737   ,  0.30516902, -0.49091634,  0.14576392,\n",
       "        -0.2294944 ,  0.3626269 ,  0.45889807, -0.55971617,  0.2923741 ,\n",
       "        -0.12920393, -0.21829176, -0.10480458,  0.06778906, -0.16161466,\n",
       "        -0.06570932, -0.65118873,  0.03475533,  0.5958938 , -0.15688156,\n",
       "         0.48183608,  0.26786634, -0.02482615, -0.27253994,  0.5028885 ,\n",
       "         0.05702245, -0.6428558 ,  0.7071375 ,  0.45738074, -0.07232283,\n",
       "        -0.07372273,  0.31107074, -0.44321266,  0.6631037 ,  0.3412993 ,\n",
       "        -0.23997991, -0.15805162, -0.02644365, -0.42430577,  0.2141449 ,\n",
       "         0.71485454,  0.22649972,  0.69321394, -0.34419847, -0.70061857,\n",
       "        -0.2385214 ,  0.3424631 ,  0.26804018, -0.71007794, -0.23419164,\n",
       "         0.6283731 , -0.33942595,  0.43347582,  0.14930247, -0.21294878,\n",
       "        -0.9225413 , -0.42025802, -0.7199828 ,  0.18232529,  0.10180906,\n",
       "        -0.14531009,  0.66038877, -0.36790633, -0.8507137 , -0.00517546,\n",
       "         0.8315255 ,  0.88167477, -0.0860013 , -0.5324661 ,  0.38677606,\n",
       "         0.398254  , -0.5640746 ,  0.41519228,  0.49521628, -0.6821766 ,\n",
       "        -0.27274606, -0.26011917, -0.72099096,  0.3091253 ,  0.169957  ,\n",
       "        -0.43101534,  0.7136529 ,  0.1161013 ,  0.40937495,  0.16552633,\n",
       "         0.06520196], dtype=float32),\n",
       " array([ 2.7431419e-01, -1.1330424e-01,  1.3243474e-01,  1.5158802e-01,\n",
       "         2.8747311e-01,  3.3993468e-02, -5.6747788e-01, -1.4297813e-01,\n",
       "         1.4926678e-01, -1.4529319e-01,  1.6097032e-01, -1.9442643e-01,\n",
       "        -2.5793087e-01, -9.1901913e-02, -1.8040529e-01,  1.1569115e-01,\n",
       "         5.1594451e-02, -2.7805885e-02, -1.7495474e-01,  6.5723807e-02,\n",
       "        -3.1106710e-01, -1.6410448e-01, -1.6010101e-01,  3.4633767e-02,\n",
       "         7.2348922e-02, -1.4923022e-02, -4.0863059e-02, -1.3166405e-01,\n",
       "         6.1415609e-02, -2.2956060e-01,  5.1845320e-02, -3.0272998e-02,\n",
       "        -1.1694402e-01, -3.8167587e-01,  3.8553055e-02,  9.1668621e-02,\n",
       "        -1.7212647e-01,  2.0258826e-01,  5.9934456e-02,  4.1941553e-01,\n",
       "        -1.1873117e-01, -1.0092215e-01, -1.6749924e-01,  2.6073992e-01,\n",
       "        -2.2705765e-03, -1.3011773e-01,  8.5910685e-02, -3.9738234e-02,\n",
       "        -2.5229502e-01, -2.0912759e-01,  2.8039500e-01, -8.3877081e-03,\n",
       "        -9.0107568e-02, -8.3312973e-02, -6.9120087e-02,  1.1651426e-01,\n",
       "        -8.7349020e-02,  2.2087161e-01, -1.3813213e-01,  8.1114516e-02,\n",
       "         2.1463156e-01,  1.6435584e-02, -2.3681615e-02, -1.6744876e-01,\n",
       "         9.2936687e-02, -2.5399191e-02, -4.7886717e-01,  8.2093459e-03,\n",
       "         1.2542202e-01,  8.2116380e-02, -6.3373856e-02,  1.9328891e-01,\n",
       "        -3.7983757e-02, -2.5050637e-01,  2.9032372e-02,  2.0415471e-01,\n",
       "        -1.1381701e-03, -2.9332936e-02, -2.2246090e-01,  1.7790686e-01,\n",
       "         2.5091308e-01,  8.4758505e-02,  1.3210025e-01,  6.1399972e-01,\n",
       "        -1.1374560e-01, -5.6998841e-02,  4.8921658e-05, -4.7161165e-01,\n",
       "        -1.1918485e-01,  1.5365732e-01, -3.9398950e-01,  1.1168819e-01,\n",
       "         8.8528305e-02, -4.8937663e-02,  2.0003682e-01, -9.3281269e-06],\n",
       "       dtype=float32),\n",
       " array([ 2.02799037e-01, -3.00813556e-01,  2.49149159e-01, -8.52064639e-02,\n",
       "         3.75400662e-01, -3.06868315e-01, -4.02844340e-01, -7.51721847e-04,\n",
       "         2.18096450e-01, -3.23009819e-01,  2.93238819e-01, -1.72234491e-01,\n",
       "         3.76026243e-01,  4.29354995e-01, -3.02930117e-01, -1.05323397e-01,\n",
       "         5.05222201e-01,  1.71315268e-01, -5.15844464e-01, -1.80506304e-01,\n",
       "         1.27400324e-01, -9.97883007e-02, -1.67611361e-01,  1.80644751e-01,\n",
       "        -3.00210863e-01, -1.45115897e-01,  4.72843468e-01, -2.76264131e-01,\n",
       "        -3.76853570e-02,  2.07268760e-01, -3.61938804e-01, -1.74896657e-01,\n",
       "        -4.43245560e-01,  3.35733518e-02,  2.82184035e-01, -2.66141206e-01,\n",
       "        -2.49818087e-01, -3.22603911e-01,  2.15102106e-01, -1.24492779e-01,\n",
       "        -5.39647579e-01, -3.20241414e-02, -1.53362364e-01, -3.05450317e-02,\n",
       "        -1.89274937e-01, -2.99042076e-01,  8.01282153e-02,  3.68726738e-02,\n",
       "         7.73010924e-02,  1.64789170e-01,  2.94477612e-01,  7.67105669e-02,\n",
       "        -1.66444451e-01,  2.58927643e-01,  8.01823437e-01,  2.69050360e-01,\n",
       "        -1.96850494e-01, -7.73824006e-02,  2.81233698e-01,  9.69579816e-02,\n",
       "         6.47878274e-02, -9.09406096e-02, -3.68989229e-01,  1.08190417e-01,\n",
       "        -2.90874727e-02, -2.49947116e-01, -5.77387929e-01, -4.53006566e-01,\n",
       "         1.65680185e-01, -1.25751168e-01,  2.74483979e-01,  2.85316706e-01,\n",
       "         2.89776713e-01, -2.00818151e-01, -1.28328085e-01,  4.56590801e-02,\n",
       "         3.24183136e-01, -2.99007773e-01, -1.69022352e-01, -3.01580369e-01,\n",
       "        -2.95482762e-02,  6.48633391e-02,  1.12347916e-01,  4.01125044e-01,\n",
       "        -1.52914524e-01, -2.60550737e-01, -2.75311708e-01, -3.15080464e-01,\n",
       "         5.08508563e-01,  2.83529907e-02,  1.80554930e-02, -2.59330630e-01,\n",
       "         7.38128573e-02,  3.27261597e-01,  2.13874340e-01, -2.60081857e-01],\n",
       "       dtype=float32),\n",
       " array([ 0.34565204, -0.22025914,  0.23605439,  0.20634729,  0.09071001,\n",
       "        -0.462993  , -0.40272018,  0.23461516, -0.02407311, -0.03066496,\n",
       "         0.13346598, -0.24013966, -0.07509608, -0.40923944, -0.06479323,\n",
       "         0.3343473 ,  0.12108956, -0.23338681, -0.13883229,  0.43382072,\n",
       "         0.47180238, -0.07919131, -0.3116047 , -0.05230961, -0.36958253,\n",
       "        -0.21651891,  0.02240287,  0.01957871,  0.270091  , -0.16420072,\n",
       "        -0.5699714 ,  0.35280308,  0.1295523 , -0.3736464 ,  0.34492132,\n",
       "         0.04234927, -0.384067  ,  0.19860196,  0.7632    ,  0.39934725,\n",
       "         0.04789472,  0.3481933 , -0.23881319, -0.08571148,  0.24954326,\n",
       "        -0.41345367, -0.09270799,  0.20542547, -0.10450777,  0.06872932,\n",
       "         0.47406375, -0.0012238 ,  0.13857894, -0.12461022,  0.13596115,\n",
       "         0.00927167, -0.10682033, -0.29682782, -0.3011881 ,  0.20908743,\n",
       "         0.42138195, -0.2555524 ,  0.15497006, -0.30977196, -0.32735687,\n",
       "        -0.5646527 , -0.4053234 ,  0.10176255,  0.31165722, -0.13353708,\n",
       "        -0.07670101,  0.09729227, -0.46353415, -0.1153345 ,  0.38179123,\n",
       "         0.15129678,  0.39131042, -0.36046672, -0.29241484,  0.38597795,\n",
       "         0.06948771, -0.26367602, -0.02862679,  0.57592154, -0.09603303,\n",
       "        -0.1470816 , -0.30728495, -0.42264625, -0.10418299, -0.06844302,\n",
       "        -0.43546873,  0.2677983 , -0.05631598,  0.31117535, -0.02595747,\n",
       "         0.32029915], dtype=float32),\n",
       " array([ 0.33419567, -0.43504253, -0.05063951,  1.1595819 , -0.5595497 ,\n",
       "         1.3249189 , -0.7110161 , -0.5637754 , -0.8153109 , -0.16828498,\n",
       "         0.83651483, -0.1616536 , -0.5871332 , -0.3659091 , -0.29903823,\n",
       "         0.08152042, -0.09255472, -0.02164164, -0.4029833 , -0.43831712,\n",
       "         0.02201104, -0.42271364,  0.0628798 , -0.27059942,  0.29676569,\n",
       "        -0.1400297 , -0.06891297,  0.4415969 ,  0.03672321, -0.5881145 ,\n",
       "        -0.8879733 , -0.8703288 ,  0.1301108 , -0.769982  ,  0.38585302,\n",
       "         0.1748376 , -0.5784922 ,  1.020072  ,  0.99856335,  0.24585742,\n",
       "        -0.17401306,  1.0732818 , -0.63678074,  0.9109981 , -0.3051671 ,\n",
       "        -0.19821626,  1.219458  , -0.6553941 , -0.29941237,  0.6834415 ,\n",
       "         0.7038474 ,  0.04757312, -0.11222276,  0.80009973, -0.0525001 ,\n",
       "        -1.3086914 ,  0.8665104 , -0.21006489,  0.29078758, -0.39142802,\n",
       "         0.32344413, -0.45456132,  0.36227697,  0.4524361 ,  0.01744442,\n",
       "        -0.00398988,  0.18624035, -0.4745171 , -0.00685796,  0.66088146,\n",
       "         0.2694099 , -0.30211186,  0.10149077, -0.570194  , -0.33139795,\n",
       "        -0.16508469, -0.6228566 , -0.2675795 , -0.7346926 , -0.53746885,\n",
       "         0.4481849 ,  0.67656034, -0.08567077,  0.37176195, -0.5392074 ,\n",
       "         0.47527882,  0.42831925, -0.6896286 ,  0.6522303 ,  0.7253882 ,\n",
       "         0.0397952 ,  0.268809  , -0.98350376,  0.00848322,  0.5067857 ,\n",
       "        -0.3973102 ], dtype=float32),\n",
       " array([ 0.08934498,  0.19423464,  0.22013626, -0.290543  ,  0.35777417,\n",
       "        -0.37215978, -0.39805788,  0.17358668,  0.09103405, -0.27807775,\n",
       "         0.45736408, -0.04271046, -0.42928657,  0.23089096, -0.13965364,\n",
       "         0.11533774,  0.01187043, -0.29931095,  0.04375855,  0.28888744,\n",
       "        -0.2210586 , -0.09121485, -0.37380123, -0.07691146, -0.12729417,\n",
       "        -0.01177969,  0.03643819, -0.00920535,  0.05315784, -0.20450635,\n",
       "        -0.2398729 , -0.04643838, -0.3412188 ,  0.17804958, -0.26560193,\n",
       "         0.15888761, -0.27440232,  0.13425745,  0.07701334,  0.04765356,\n",
       "        -0.29904127,  0.20158638,  0.08951326,  0.00999823, -0.16553794,\n",
       "        -0.02364743, -0.02887241, -0.12682116, -0.24518569,  0.13294448,\n",
       "         0.25977597, -0.12977436, -0.00759544,  0.01420298,  0.23734024,\n",
       "        -0.08241975, -0.08657352,  0.05959192, -0.1114269 , -0.13342467,\n",
       "         0.21889043,  0.2420406 ,  0.14127833, -0.1356385 , -0.11083632,\n",
       "        -0.22982197, -0.00349973, -0.25862563,  0.10816676,  0.29745716,\n",
       "        -0.04044017,  0.28088066,  0.22186957, -0.10221978, -0.36039922,\n",
       "         0.07948451,  0.03613031, -0.15334176, -0.04629675, -0.25796667,\n",
       "        -0.04560031,  0.11375997, -0.16189387,  0.38413027, -0.14622414,\n",
       "         0.11061106,  0.08634639, -0.4203566 ,  0.20537172, -0.00186121,\n",
       "         0.4728466 ,  0.05072907,  0.30323192,  0.38193998,  0.22645362,\n",
       "        -0.2063059 ], dtype=float32),\n",
       " array([ 1.47309497e-01, -9.46567506e-02, -5.61984956e-01,  7.14255422e-02,\n",
       "         2.22203493e-01, -2.21159104e-02,  1.90220088e-01, -5.49062908e-01,\n",
       "        -6.33645728e-02, -6.07677083e-03,  2.01028198e-01, -6.78642765e-02,\n",
       "        -1.09795012e-01,  3.06640834e-01, -4.45577912e-02, -2.52433807e-01,\n",
       "        -7.87830427e-02, -4.73158509e-01,  2.87227519e-02, -1.64084777e-01,\n",
       "        -5.89836724e-02,  4.22408395e-02, -4.21219736e-01,  3.19564968e-01,\n",
       "         2.57591337e-01, -7.74598727e-03, -2.10180044e-01, -2.07777862e-02,\n",
       "        -1.86860174e-01,  8.75087976e-02, -1.58560187e-01,  1.41182810e-01,\n",
       "         7.38648996e-02, -2.82705247e-01, -1.55725271e-01, -1.80808812e-01,\n",
       "         4.88286726e-02,  1.52993172e-01, -8.61592889e-02,  1.66451931e-01,\n",
       "        -4.76472378e-02, -3.89700830e-02, -1.11353181e-01, -1.02267265e-01,\n",
       "        -1.70770288e-01, -4.35701758e-01,  2.19730169e-01, -3.15727979e-01,\n",
       "        -2.73478359e-01, -1.57544419e-01,  2.53628045e-01,  3.90233807e-02,\n",
       "         2.93713540e-01,  3.06289405e-01, -2.43780524e-01, -2.45366126e-01,\n",
       "         1.60817474e-01, -1.66211218e-01, -7.05436617e-02, -1.85113117e-01,\n",
       "         4.83801842e-01, -4.22768369e-02,  4.03640680e-02, -2.14002892e-01,\n",
       "         1.00206673e-01, -2.56697476e-01, -2.86257565e-01,  4.55747187e-01,\n",
       "         3.51515226e-02,  1.96600601e-01,  9.87520143e-02, -5.48595213e-04,\n",
       "         1.22104242e-01, -2.20673174e-01,  9.63374823e-02,  2.67993659e-01,\n",
       "        -8.38734061e-02,  7.38123208e-02, -9.48906168e-02,  2.17977166e-01,\n",
       "         2.16353387e-01,  2.24401951e-01,  4.25235182e-01,  7.98535407e-01,\n",
       "         4.63526621e-02,  1.89055681e-01,  3.11058849e-01,  1.70210525e-01,\n",
       "         1.84236914e-01, -6.41787499e-02, -3.89817660e-03,  1.35161474e-01,\n",
       "        -3.60701412e-01, -2.67158747e-01,  1.99365228e-01,  2.49650422e-02],\n",
       "       dtype=float32),\n",
       " array([ 0.25102875, -0.15795855,  0.3217172 ,  0.05947908,  0.26459044,\n",
       "        -0.04226037,  0.16359133, -0.24716757, -0.09247091, -0.12721911,\n",
       "         0.08873446,  0.19916101,  0.01752514,  0.30767405, -0.10570429,\n",
       "        -0.22292116,  0.11732753, -0.37665132, -0.11848922,  0.14007415,\n",
       "         0.19305253,  0.0312447 , -0.20056665, -0.11124586, -0.33895758,\n",
       "        -0.17360237,  0.36872172, -0.07335972, -0.02750743,  0.10954341,\n",
       "        -0.00527017, -0.05636303, -0.14005078, -0.01220937,  0.22236933,\n",
       "        -0.00792549,  0.0754265 ,  0.16883889,  0.20004271,  0.25826475,\n",
       "        -0.24788868,  0.00506883,  0.23045368,  0.00417188, -0.01779004,\n",
       "        -0.22245722,  0.2936143 ,  0.26278156, -0.07118303,  0.05390003,\n",
       "         0.04056143, -0.12472384, -0.11871743, -0.03669087,  0.12974714,\n",
       "         0.15087508,  0.01922606, -0.24048117, -0.26932776, -0.02535378,\n",
       "        -0.25398836, -0.3510223 ,  0.21033788, -0.4347245 , -0.11530139,\n",
       "        -0.21251704, -0.4661479 ,  0.08318317,  0.00854621,  0.10647619,\n",
       "         0.14025974, -0.06104083,  0.08370957, -0.16295001, -0.13246095,\n",
       "        -0.08773509,  0.04858192, -0.3494594 , -0.4090008 , -0.3367259 ,\n",
       "        -0.06377407,  0.16777836,  0.21506023,  0.2665472 , -0.20902705,\n",
       "        -0.24626817,  0.12075827, -0.12359235,  0.36710465, -0.02724139,\n",
       "         0.09412208, -0.07845129,  0.2432685 ,  0.3119602 ,  0.1385427 ,\n",
       "        -0.20893803], dtype=float32),\n",
       " array([ 0.1876344 , -0.0489631 ,  0.08024421,  0.1093749 , -0.01820957,\n",
       "         0.00463151, -0.05054611, -0.2500902 ,  0.07508536, -0.09906101,\n",
       "         0.03911462,  0.04044061,  0.32870486, -0.15831612,  0.04182548,\n",
       "         0.01120369, -0.08721269, -0.18509533,  0.09356935, -0.14815527,\n",
       "         0.05757683,  0.10507598, -0.09352724,  0.11923374,  0.14728375,\n",
       "         0.33561555, -0.0281953 , -0.03681628, -0.00180724,  0.04170215,\n",
       "        -0.20050101, -0.32300553,  0.03279956, -0.03581915, -0.17929098,\n",
       "         0.35048553,  0.10249496, -0.04799556, -0.1760066 ,  0.2589158 ,\n",
       "        -0.11781584,  0.06178957, -0.04284433,  0.08641063, -0.12446251,\n",
       "        -0.1923547 ,  0.23960768,  0.10612293, -0.23903072, -0.119216  ,\n",
       "        -0.00091967,  0.00240588,  0.07266785,  0.2971785 , -0.1356031 ,\n",
       "         0.02327187, -0.09818877,  0.01291991,  0.34730396, -0.06201575,\n",
       "         0.14165026,  0.10579482,  0.13551033, -0.13942896, -0.10531837,\n",
       "         0.08880313, -0.33996513, -0.20421462,  0.05820579, -0.018814  ,\n",
       "         0.06534813,  0.21997622, -0.02700649, -0.22488494, -0.21607666,\n",
       "         0.30961466, -0.13456742, -0.11887343, -0.147771  , -0.10137231,\n",
       "         0.17768307,  0.00274393,  0.10656442,  0.17351216, -0.06485795,\n",
       "        -0.13473198, -0.24931248, -0.03773748,  0.08013326, -0.00781868,\n",
       "        -0.03068878,  0.16286422, -0.07851463,  0.00810139,  0.13350554,\n",
       "        -0.10524784], dtype=float32),\n",
       " array([ 0.28047457, -0.01895728, -0.16517144,  0.09469163, -0.0557858 ,\n",
       "        -0.05285215,  0.00579526, -0.36881307, -0.0949776 , -0.03719582,\n",
       "         0.27737823, -0.32150593,  0.18726583,  0.07405131,  0.14794905,\n",
       "         0.07011978,  0.11969235, -0.21185966, -0.09887903, -0.45689118,\n",
       "         0.11866545,  0.0398581 , -0.37202597,  0.01891468,  0.24428964,\n",
       "        -0.3651328 , -0.30706626, -0.26124227,  0.1136611 , -0.32123736,\n",
       "        -0.08167337, -0.33108404,  0.55177295, -0.2172457 ,  0.12635419,\n",
       "        -0.18111122, -0.13927598, -0.11877823, -0.03591349,  0.04963435,\n",
       "        -0.3156707 ,  0.39379585,  0.15156505,  0.07847427, -0.08738615,\n",
       "         0.05034227,  0.23685496, -0.34051502, -0.10600214,  0.09879543,\n",
       "         0.3274633 ,  0.48585844,  0.5140975 ,  0.3784682 , -0.31720328,\n",
       "        -0.44425225,  0.56577307, -0.06883596,  0.11280701, -0.35930344,\n",
       "         0.4713003 , -0.1141412 ,  0.21000831, -0.14423919,  0.03137274,\n",
       "         0.0108587 , -0.21496174,  0.0800097 ,  0.04581369,  0.50126714,\n",
       "        -0.38605046,  0.4501843 ,  0.01804025, -0.50799745, -0.3739548 ,\n",
       "        -0.04527064, -0.01259886, -0.01045072, -0.10864519,  0.38755986,\n",
       "         0.25766876,  0.21244098,  0.1787276 ,  0.72391635, -0.16794495,\n",
       "         0.40740353,  0.48733884, -0.5828718 ,  0.41856933,  0.35220295,\n",
       "        -0.44832554,  0.23232572, -0.4444849 ,  0.024175  , -0.2562446 ,\n",
       "         0.12866399], dtype=float32),\n",
       " array([ 0.34062076, -0.09918746, -0.5497676 ,  0.33138853,  0.27533486,\n",
       "        -0.25219148, -0.18895462, -0.58177406,  0.7508766 ,  0.09587592,\n",
       "        -0.5793918 , -0.27798018,  0.20079884,  0.58752894,  0.33466828,\n",
       "        -0.10691266,  0.17357191, -0.5417244 , -0.06716561,  0.36634186,\n",
       "        -0.11557102, -0.09367873, -0.16412462,  0.006714  , -0.21481565,\n",
       "         0.04533301, -0.20966025, -0.13409452, -0.0157176 , -0.32880044,\n",
       "        -0.09822786, -0.12873195,  0.01733822, -0.52662206,  0.22136919,\n",
       "        -0.06129374, -0.18615563, -0.11995187,  0.29755223,  0.19109303,\n",
       "         0.05079363, -0.3799942 , -0.10967396,  0.11769712, -0.06795497,\n",
       "        -0.24146403, -0.14409626,  0.17931272, -0.23187187,  0.40979236,\n",
       "         0.48137802,  0.49716336,  0.8392185 , -0.0803821 , -0.2560283 ,\n",
       "        -0.3001532 , -0.09955087,  0.48121414, -0.3583623 , -0.10319564,\n",
       "         0.39344513,  0.04814506,  0.13466984, -0.08880862,  0.06596369,\n",
       "        -0.3068283 , -0.49344766, -0.3585937 ,  0.3863746 , -0.17422377,\n",
       "        -0.13021268, -0.14101619,  0.17001686, -0.29349297, -0.17445324,\n",
       "         0.24899827, -0.45442146,  0.4286784 , -0.24569929,  0.47072998,\n",
       "         0.12998372, -0.45722237,  0.4079584 ,  0.9187752 , -0.27700484,\n",
       "        -0.29153448,  0.1606205 , -0.41059116, -0.26134533,  0.47953314,\n",
       "        -0.235792  ,  0.156977  , -0.24113008,  0.03544705,  0.17530584,\n",
       "         0.11645076], dtype=float32),\n",
       " array([ 0.06639028, -0.25759923, -0.6265726 , -0.04028016,  0.28080884,\n",
       "        -0.31678495, -0.62259483, -0.6955062 , -0.47456548, -0.3321573 ,\n",
       "         1.1985803 , -0.57628816,  0.15088557,  1.0430396 , -0.4895222 ,\n",
       "         0.6071248 ,  0.0793182 , -0.03156029, -0.3757438 , -0.13723435,\n",
       "        -0.04165846, -0.5415573 , -0.39042932,  0.31861338, -0.2843135 ,\n",
       "        -0.25656545,  0.1933879 , -0.01424643,  0.49605432, -0.1730451 ,\n",
       "        -0.05653548, -0.6262497 ,  0.08451259, -0.42553478,  0.4887038 ,\n",
       "         0.424133  , -0.86626625,  0.6293826 ,  0.7517212 ,  0.3091573 ,\n",
       "        -0.3401882 , -0.18511721, -0.58943033,  1.6439382 ,  0.08131191,\n",
       "        -0.54240525,  0.38009033,  0.64380044,  0.09069116, -0.28818792,\n",
       "        -0.14256811, -0.10762727,  0.23968157, -1.2952846 ,  0.5391053 ,\n",
       "        -0.28704193,  0.40335333, -0.00885693, -0.03687863, -1.0364155 ,\n",
       "         0.45374742, -0.38693514, -0.13600345, -0.4960901 ,  0.34500426,\n",
       "         0.07812791, -0.5326233 , -0.5495666 ,  0.30614018,  0.73142487,\n",
       "         0.48736495,  0.07352403,  0.33072937, -0.27127054, -0.22960305,\n",
       "         1.1431748 , -0.75588334, -0.43099785, -0.38097268,  0.08841074,\n",
       "         0.28638864, -0.01243016,  0.64108366,  0.98705536, -1.0168998 ,\n",
       "        -0.33758962,  0.62420547, -0.5589183 ,  0.35813397,  0.46767932,\n",
       "        -0.19813721,  1.4982393 , -0.38308233, -0.26062804, -0.54703546,\n",
       "        -0.766071  ], dtype=float32),\n",
       " array([-0.13308346, -0.05304584, -0.04190886,  0.37119922,  0.0229694 ,\n",
       "        -1.3175138 , -0.42081538, -0.02762079,  0.11524224, -0.11056611,\n",
       "         1.413447  ,  0.00602437,  0.33919835,  0.0259038 ,  0.25162175,\n",
       "         0.5108853 ,  0.13396357,  0.39555952, -0.46371844, -0.06069825,\n",
       "        -0.40811324,  0.43275893, -0.21066423, -0.10888799, -0.4542904 ,\n",
       "        -0.41497955, -0.03015068,  0.10348454,  0.4164566 , -0.43294534,\n",
       "         0.17088361,  0.52608633,  0.11343446,  0.23369138,  0.08253332,\n",
       "         0.49892077, -0.60529774,  0.85183734,  0.22756533, -0.52199155,\n",
       "        -0.44044366,  0.5174624 , -0.1424989 ,  0.4277315 ,  0.28930774,\n",
       "        -0.17831111,  0.32369104, -0.19582902, -0.09179068, -0.42270517,\n",
       "         1.1229166 , -0.08656746, -0.2855952 , -0.05869085,  0.17374301,\n",
       "        -0.262194  ,  0.6819806 ,  0.18855773, -0.24855034,  0.10740495,\n",
       "         0.86303806, -0.07136661,  0.35146174,  0.10377833, -0.26416844,\n",
       "        -0.47165608, -0.09247988, -0.09677102, -0.19948973,  0.2183673 ,\n",
       "        -0.46808016,  0.19612022, -0.27939188,  0.03210475, -0.39579237,\n",
       "         0.51850677,  0.09516665, -0.32771274, -0.78892654, -0.12249397,\n",
       "        -0.12149778,  0.08350027, -0.26261893,  0.21085054, -0.25240523,\n",
       "        -0.07300658, -0.36173943, -0.39957365, -0.01142466,  0.24864697,\n",
       "        -0.9421275 ,  0.99949425,  0.7021739 ,  0.6304738 , -0.33836344,\n",
       "        -0.12341721], dtype=float32),\n",
       " array([ 4.42809433e-01,  2.34837785e-01, -2.54664361e-01,  5.39061129e-01,\n",
       "         1.77258536e-01, -5.80713212e-01, -3.82687926e-01, -3.27661514e-01,\n",
       "        -9.68562588e-02,  4.87393707e-01,  1.03660834e+00,  1.76735863e-01,\n",
       "         2.28836522e-01, -2.18850281e-02,  2.04334274e-01,  3.27439785e-01,\n",
       "         5.13060624e-03, -4.37362790e-01, -4.19181347e-01, -1.99196279e-01,\n",
       "        -3.37664559e-02, -4.02196050e-02,  5.63276326e-03, -3.79639357e-01,\n",
       "         2.58406508e-03, -2.76349753e-01, -2.21663758e-01,  3.44290942e-01,\n",
       "         3.26243848e-01, -4.28689003e-01,  6.44994080e-01,  5.10065556e-02,\n",
       "        -2.43323877e-01,  4.11004066e-01, -3.95396799e-01,  4.05701488e-01,\n",
       "        -2.80609041e-01,  4.31286812e-01, -9.84350964e-02, -5.33090591e-01,\n",
       "        -8.78212880e-03,  3.20500880e-02, -1.96853295e-01,  2.92134672e-01,\n",
       "         3.26438099e-01, -2.82306671e-01,  6.17888808e-01, -3.80137444e-01,\n",
       "        -6.75289631e-01, -9.46881846e-02,  5.67366719e-01,  5.29261410e-01,\n",
       "         4.68646377e-01, -3.50034565e-01,  8.42951760e-02, -2.32905149e-01,\n",
       "        -2.07378268e-01,  3.21425676e-01, -3.38585973e-01,  1.45874307e-01,\n",
       "         3.78806442e-01,  1.31900668e-01,  7.96084464e-01, -2.19162583e-01,\n",
       "        -4.15434003e-01,  3.15380722e-01, -5.33338845e-01,  3.16602230e-01,\n",
       "         6.09448366e-02, -3.74410558e-03, -2.50234455e-02, -1.55053632e-02,\n",
       "        -1.81846932e-01, -6.61938131e-01,  8.67933314e-03,  1.72172323e-01,\n",
       "         3.99505615e-01, -2.59768754e-01, -4.59900469e-01, -1.13557376e-01,\n",
       "         2.14260221e-01, -2.21364930e-01,  5.46691380e-02,  5.65598421e-05,\n",
       "        -6.16151273e-01, -2.15480521e-01, -2.03430012e-01, -4.08368587e-01,\n",
       "         1.42444476e-01, -2.86424786e-01, -5.04657567e-01,  4.58067328e-01,\n",
       "         2.24993885e-01,  8.04174602e-01,  9.80527923e-02,  3.34665656e-01],\n",
       "       dtype=float32),\n",
       " array([-0.3797632 , -0.5518137 ,  0.00350734, -0.15503213,  0.2568197 ,\n",
       "        -0.08155822, -0.27710396,  0.42118233,  0.309175  , -0.09390647,\n",
       "         0.81903124,  0.3406193 , -0.72257775,  0.06325027,  0.17731884,\n",
       "        -0.01530096,  0.09271721, -0.12996176,  0.07176616,  0.12885293,\n",
       "        -0.49721915, -0.14230959, -0.13359165, -0.04269286,  0.19090399,\n",
       "        -0.37055042, -0.30846596, -0.24361463,  0.16275755, -0.2676537 ,\n",
       "        -0.18728082,  0.67441577, -0.7509153 ,  0.14027485,  0.09948836,\n",
       "         0.52937716, -0.88364995,  0.23323138,  0.03176772, -0.06838852,\n",
       "         0.0432649 ,  0.29020602, -0.13129702, -0.30774543,  0.35722238,\n",
       "         0.14967385,  0.01413093, -0.20553072, -0.21083522, -0.33860937,\n",
       "         0.78403807, -0.02209195,  0.055075  ,  0.06068771, -0.2046422 ,\n",
       "        -0.527922  , -0.00212936,  0.430322  , -0.30567172, -0.1475862 ,\n",
       "         0.24176137,  0.02562639,  0.27104846,  0.12008728,  0.07511897,\n",
       "        -0.28327322, -0.41486803, -0.30498147,  0.08454314,  0.1816502 ,\n",
       "         0.06544783,  0.45200878, -0.602729  , -0.6666025 , -0.11270408,\n",
       "         0.217832  ,  0.0270273 , -0.4232181 ,  0.00248076,  0.44381303,\n",
       "         0.29075146, -0.32985383, -0.26815385,  0.604656  , -0.60181344,\n",
       "        -0.19774899,  0.3803379 , -0.8862775 , -0.3070329 ,  0.34823194,\n",
       "         0.12943384, -0.19245997,  0.2987103 ,  0.33372456,  0.2355884 ,\n",
       "         0.17716774], dtype=float32)]"
      ]
     },
     "metadata": {},
     "execution_count": 24
    }
   ],
   "metadata": {}
  },
  {
   "cell_type": "code",
   "execution_count": null,
   "source": [
    "def get_all_values(nested_dictionary):\r\n",
    "    for key,value in nested_dictionary.items():\r\n",
    "        if type(value) is dict:\r\n",
    "            get_all_values(value)\r\n",
    "        else:\r\n",
    "            print(key,\":\",value)"
   ],
   "outputs": [],
   "metadata": {}
  },
  {
   "cell_type": "code",
   "execution_count": null,
   "source": [
    "get_all_values(elon)"
   ],
   "outputs": [
    {
     "output_type": "stream",
     "name": "stdout",
     "text": [
      "username : elonmusk\n",
      "id : 44196397\n",
      "tweets : [{'id': 1437547516439015424, 'full_text': '⛽️💡'}, {'id': 1437220114613555202, 'full_text': 'Gravitas https://t.co/DyIcmeKxz7'}, {'id': 1437204825800851460, 'full_text': 'Emojilution https://t.co/oXfiGkpdkO'}, {'id': 1437179881260032016, 'full_text': 'Floki has arrived https://t.co/2MiUKb91FT'}, {'id': 1437112222698909697, 'full_text': 'https://t.co/3c18VldRrn'}, {'id': 1436283089215442968, 'full_text': 'Metallurgy Rūlz'}, {'id': 1436265776550490112, 'full_text': 'POV Hardcore https://t.co/8SmXeGfpY7'}, {'id': 1436086743720251394, 'full_text': 'Tesla Model S Plaid just set official world speed record for a production electric car at Nurburgring. Completely unmodified, directly from factory. https://t.co/AaiFtfW5Ht'}, {'id': 1433713164546293767, 'full_text': 'Time is the ultimate currency'}, {'id': 1433226358398734337, 'full_text': 'FSD Beta 10 rolls out midnight Friday next week'}, {'id': 1432818021836357634, 'full_text': 'https://t.co/YUt6Ltz2B6'}, {'id': 1432497810004402177, 'full_text': 'The dark side of OnlyFans … https://t.co/EpMP1q62jn'}, {'id': 1432494177674203143, 'full_text': 'Time to stop projecting &amp; cool off https://t.co/gULCBmoxjy'}, {'id': 1432491362105143298, 'full_text': 'No worries, situation is under control https://t.co/EUkcGRdBPw'}, {'id': 1432270085415124995, 'full_text': 'SpaceX will try to catch largest ever flying object with robot chopsticks.\\n\\nSuccess is not guaranteed, but excitement is!\\n\\nhttps://t.co/75yMgIWOwE'}, {'id': 1431867661164687360, 'full_text': 'Falcon about to launch Dragon to @Space_Station https://t.co/bDd3GxQXMC'}, {'id': 1431762773185376262, 'full_text': 'Flying over Starbase https://t.co/poSDG3pIq8'}, {'id': 1431717794001850373, 'full_text': 'https://t.co/oXYnEUZW18'}, {'id': 1430654259255783424, 'full_text': '✌️ https://t.co/lwg9Ke6cjP'}, {'id': 1429907171639103489, 'full_text': '100k terminals shipped!\\nhttps://t.co/Q1VvqVmJ2i'}, {'id': 1429898852673343524, 'full_text': 'The Guns of August https://t.co/m7J2sJVNIT'}]\n"
     ]
    }
   ],
   "metadata": {}
  },
  {
   "cell_type": "code",
   "execution_count": null,
   "source": [
    "# Checking length of tweets from user\r\n",
    "len(nasa_tweets)"
   ],
   "outputs": [],
   "metadata": {}
  },
  {
   "cell_type": "code",
   "execution_count": null,
   "source": [
    "# Checking length of tweets from user\r\n",
    "len(jeff_tweets)"
   ],
   "outputs": [],
   "metadata": {}
  },
  {
   "cell_type": "code",
   "execution_count": null,
   "source": [
    "# Checking data type of word2vec\r\n",
    "type(word2vec_nasa_last_tweet)"
   ],
   "outputs": [],
   "metadata": {}
  },
  {
   "cell_type": "code",
   "execution_count": null,
   "source": [
    "#Loading the model into \"NLP\"\r\n",
    "nlp = spacy.load(\"my_nlp_model\")"
   ],
   "outputs": [],
   "metadata": {}
  },
  {
   "cell_type": "code",
   "execution_count": null,
   "source": [
    "# Creating a function to vectorize the tweet.\r\n",
    "def vectorize_tweet(tweet_text):\r\n",
    "    return nlp(tweet_text).vector"
   ],
   "outputs": [],
   "metadata": {}
  },
  {
   "cell_type": "code",
   "execution_count": null,
   "source": [
    "# The output of this is the vectorized most recent tweet from Nasa\r\n",
    "nt = vectorize_tweet(nasa_tweets[0].text)"
   ],
   "outputs": [],
   "metadata": {}
  },
  {
   "cell_type": "code",
   "execution_count": null,
   "source": [
    "# To check output\r\n",
    "nt"
   ],
   "outputs": [],
   "metadata": {}
  },
  {
   "cell_type": "code",
   "execution_count": null,
   "source": [
    "# Import libaries\r\n",
    "import numpy as np"
   ],
   "outputs": [],
   "metadata": {}
  },
  {
   "cell_type": "code",
   "execution_count": null,
   "source": [
    "# Checking variable\r\n",
    "nasa_tweets"
   ],
   "outputs": [],
   "metadata": {}
  },
  {
   "cell_type": "code",
   "execution_count": null,
   "source": [
    "# For loop to print tweets\r\n",
    "for tweet in nasa_tweets:\r\n",
    "    print(tweet.text)\r\n",
    "    print(vectorize_tweet(tweet.text))"
   ],
   "outputs": [],
   "metadata": {}
  },
  {
   "cell_type": "code",
   "execution_count": null,
   "source": [
    "# Creating a variable for all of the vectors created from tweets from nasa\r\n",
    "nasa_tweets_vec = np.array([vectorize_tweet(tweet.text) for tweet in nasa_tweets])"
   ],
   "outputs": [],
   "metadata": {}
  },
  {
   "cell_type": "code",
   "execution_count": null,
   "source": [
    "# Check of the output\r\n",
    "nasa_tweets_vec"
   ],
   "outputs": [],
   "metadata": {}
  },
  {
   "cell_type": "code",
   "execution_count": null,
   "source": [
    "# Creating a variable for all of the vectors created from tweets from Jeff\r\n",
    "jeff_tweets_vec = np.array([vectorize_tweet(tweet.text) for tweet in jeff_tweets])"
   ],
   "outputs": [],
   "metadata": {}
  },
  {
   "cell_type": "code",
   "execution_count": null,
   "source": [
    "# Check of the output\r\n",
    "jeff_tweets_vec"
   ],
   "outputs": [],
   "metadata": {}
  },
  {
   "cell_type": "code",
   "execution_count": null,
   "source": [
    "# Checking the length of nasa_vec\r\n",
    "len(nasa_tweets_vec)"
   ],
   "outputs": [],
   "metadata": {}
  },
  {
   "cell_type": "code",
   "execution_count": null,
   "source": [
    "# Checking the length of jeff_vec\r\n",
    "len(jeff_tweets_vec)"
   ],
   "outputs": [],
   "metadata": {}
  },
  {
   "cell_type": "code",
   "execution_count": null,
   "source": [
    "# Checking the shape of the vector\r\n",
    "nasa_tweets_vec.shape"
   ],
   "outputs": [],
   "metadata": {}
  },
  {
   "cell_type": "code",
   "execution_count": null,
   "source": [
    "# Checking the shape of the vector\r\n",
    "jeff_tweets_vec.shape"
   ],
   "outputs": [],
   "metadata": {}
  },
  {
   "cell_type": "code",
   "execution_count": null,
   "source": [
    "# Stacking both vectors in sequence vertically then assigning them to a variable\r\n",
    "vects = np.vstack([nasa_tweets_vec, jeff_tweets_vec])"
   ],
   "outputs": [],
   "metadata": {}
  },
  {
   "cell_type": "code",
   "execution_count": null,
   "source": [
    "# Checking the first vector of the stack\r\n",
    "vects[0]"
   ],
   "outputs": [],
   "metadata": {}
  },
  {
   "cell_type": "code",
   "execution_count": null,
   "source": [
    "# Checking the length of the vector stack\r\n",
    "vects.shape"
   ],
   "outputs": [],
   "metadata": {}
  },
  {
   "cell_type": "code",
   "execution_count": null,
   "source": [
    "# Specifying labels by creating a array of zeros, then creating another array of ones\r\n",
    "labels = np.concatenate([np.zeros(len(nasa_tweets)), np.ones(len(jeff_tweets))])"
   ],
   "outputs": [],
   "metadata": {}
  },
  {
   "cell_type": "code",
   "execution_count": null,
   "source": [
    "# Checking variable created above\r\n",
    "labels"
   ],
   "outputs": [],
   "metadata": {}
  },
  {
   "cell_type": "code",
   "execution_count": null,
   "source": [
    "# Length of lables variable\r\n",
    "len(labels)"
   ],
   "outputs": [],
   "metadata": {}
  },
  {
   "cell_type": "code",
   "execution_count": null,
   "source": [
    "# importing logistic regression\r\n",
    "from sklearn.linear_model import LogisticRegression"
   ],
   "outputs": [],
   "metadata": {}
  },
  {
   "cell_type": "code",
   "execution_count": null,
   "source": [
    "# Creating a logistic regression model fitting the vectors, and labels\r\n",
    "log_reg = LogisticRegression().fit(vects, labels)"
   ],
   "outputs": [],
   "metadata": {}
  },
  {
   "cell_type": "code",
   "execution_count": null,
   "source": [
    "# Checking model\r\n",
    "log_reg"
   ],
   "outputs": [],
   "metadata": {}
  },
  {
   "cell_type": "code",
   "execution_count": null,
   "source": [
    "# Creating a psudo tweet variable\r\n",
    "some_text = \"Lets go to the moon\""
   ],
   "outputs": [],
   "metadata": {}
  },
  {
   "cell_type": "code",
   "execution_count": null,
   "source": [
    "# Creating a variable for the vectorized psudo tweet\r\n",
    "some_text_vec = vectorize_tweet(some_text)"
   ],
   "outputs": [],
   "metadata": {}
  },
  {
   "cell_type": "code",
   "execution_count": null,
   "source": [
    "# Checking our psudo vectorized tweet\r\n",
    "some_text_vec"
   ],
   "outputs": [],
   "metadata": {}
  },
  {
   "cell_type": "code",
   "execution_count": null,
   "source": [
    "# Checking our psudo vectorized tweet length\r\n",
    "len(some_text_vec)"
   ],
   "outputs": [],
   "metadata": {}
  },
  {
   "cell_type": "code",
   "execution_count": null,
   "source": [
    "# Reshaping our psudo tweet vector\r\n",
    "some_text_vec = some_text_vec.reshape(1,-1)"
   ],
   "outputs": [],
   "metadata": {}
  },
  {
   "cell_type": "code",
   "execution_count": null,
   "source": [
    "# Creating a logistic regression prediciton on our psudo tweet\r\n",
    "log_reg.predict(some_text_vec)"
   ],
   "outputs": [],
   "metadata": {}
  },
  {
   "cell_type": "code",
   "execution_count": null,
   "source": [
    "# Creating a second psudo tweet\r\n",
    "some_text2 = \"Launching a Rocket today!\""
   ],
   "outputs": [],
   "metadata": {}
  },
  {
   "cell_type": "code",
   "execution_count": null,
   "source": [
    "# Vectorizing, then reshaping our second psudo tweet\r\n",
    "some_text2_vec = vectorize_tweet(some_text2)\r\n",
    "some_text2_vec = some_text2_vec.reshape(1,-1)"
   ],
   "outputs": [],
   "metadata": {}
  },
  {
   "cell_type": "code",
   "execution_count": null,
   "source": [
    "# Creating a logistic regression prediciton on our second psudo tweet\r\n",
    "log_reg.predict(some_text2)"
   ],
   "outputs": [],
   "metadata": {}
  },
  {
   "cell_type": "code",
   "execution_count": null,
   "source": [
    "# import pickle for storing models\r\n",
    "import pickle"
   ],
   "outputs": [],
   "metadata": {}
  },
  {
   "cell_type": "code",
   "execution_count": null,
   "source": [
    "# Pickling the logistic regression model wb = write\r\n",
    "pickle.dump(log_reg, open('my_log_reg_model.sav', 'wb'))"
   ],
   "outputs": [],
   "metadata": {}
  },
  {
   "cell_type": "code",
   "execution_count": null,
   "source": [
    "# Loading the pickled model rb = read\r\n",
    "loaded_model = pickle.load(open('my_log_reg_model','rb'))"
   ],
   "outputs": [],
   "metadata": {}
  },
  {
   "cell_type": "code",
   "execution_count": null,
   "source": [
    "# Using the loaded model to predict a text\r\n",
    "loaded_model.predict(some_text2_vec)"
   ],
   "outputs": [],
   "metadata": {}
  },
  {
   "cell_type": "code",
   "execution_count": null,
   "source": [],
   "outputs": [],
   "metadata": {}
  }
 ],
 "metadata": {
  "orig_nbformat": 4,
  "language_info": {
   "name": "python",
   "version": "3.9.1",
   "mimetype": "text/x-python",
   "codemirror_mode": {
    "name": "ipython",
    "version": 3
   },
   "pygments_lexer": "ipython3",
   "nbconvert_exporter": "python",
   "file_extension": ".py"
  },
  "kernelspec": {
   "name": "python3",
   "display_name": "Python 3.9.1 64-bit"
  },
  "interpreter": {
   "hash": "b56204e04fac71cbe4e15d7b3dab17d89d2f24d87d00adcaa585640e5d78c50d"
  }
 },
 "nbformat": 4,
 "nbformat_minor": 2
}