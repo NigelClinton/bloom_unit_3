{
 "cells": [
  {
   "cell_type": "markdown",
   "source": [
    "# Module 1\n",
    "### Python Modules, Packages, and Environments"
   ],
   "metadata": {}
  },
  {
   "cell_type": "markdown",
   "source": [
    "* Learning Objectives\n",
    "* Understand Modules, Packages and Environments\n",
    "* Create a Python module and package\n",
    "* Install dependencies in a dedicated environment"
   ],
   "metadata": {}
  },
  {
   "cell_type": "markdown",
   "source": [
    "* The code we write for data science and machine learning grows over time.\n",
    "* Keeping the code in one file makes it difficult to maintain and debug.\n",
    "* We may want to split it into several files.\n",
    "* We may also want to use a function that we have written without copying its\n",
    "definition into each program.\n",
    "* The solution: python modules."
   ],
   "metadata": {}
  },
  {
   "cell_type": "markdown",
   "source": [
    "* Modules help us to organize our code.\n",
    "* A module is re-useable and importable code.\n",
    "* A module is a file with the “.py” extension that contains python code.\n",
    "* This code can also be imported into other modules or python programs.\n",
    "* The name of the module is the name of the file.\n",
    "* Eg: Filename = foo.py, Module = foo"
   ],
   "metadata": {}
  },
  {
   "cell_type": "code",
   "execution_count": 1,
   "source": [
    "import fibo"
   ],
   "outputs": [],
   "metadata": {}
  },
  {
   "cell_type": "markdown",
   "source": [
    "Usage: import module\n",
    "\n",
    "* Call: module.function"
   ],
   "metadata": {}
  },
  {
   "cell_type": "code",
   "execution_count": 2,
   "source": [
    "fibo.fib(10)"
   ],
   "outputs": [
    {
     "output_type": "stream",
     "name": "stdout",
     "text": [
      "0 1 1 2 3 5 8 \n"
     ]
    }
   ],
   "metadata": {}
  },
  {
   "cell_type": "code",
   "execution_count": 7,
   "source": [
    "from fibo import fib,fib2"
   ],
   "outputs": [],
   "metadata": {}
  },
  {
   "cell_type": "markdown",
   "source": [
    "Usage: from module import function\n",
    "\n",
    "* Call: function"
   ],
   "metadata": {}
  },
  {
   "cell_type": "code",
   "execution_count": 4,
   "source": [
    "fib(10)"
   ],
   "outputs": [
    {
     "output_type": "stream",
     "name": "stdout",
     "text": [
      "0 1 1 2 3 5 8 \n"
     ]
    }
   ],
   "metadata": {}
  },
  {
   "cell_type": "code",
   "execution_count": 8,
   "source": [
    "fib2(10)"
   ],
   "outputs": [
    {
     "output_type": "execute_result",
     "data": {
      "text/plain": [
       "[0, 1, 1, 2, 3, 5, 8]"
      ]
     },
     "metadata": {},
     "execution_count": 8
    }
   ],
   "metadata": {}
  },
  {
   "cell_type": "code",
   "execution_count": 11,
   "source": [
    "from fibo import fib as f"
   ],
   "outputs": [],
   "metadata": {}
  },
  {
   "cell_type": "markdown",
   "source": [
    "Usage: import module as alias\n",
    "* Call: alias.function"
   ],
   "metadata": {}
  },
  {
   "cell_type": "code",
   "execution_count": 12,
   "source": [
    "f(10)"
   ],
   "outputs": [
    {
     "output_type": "stream",
     "name": "stdout",
     "text": [
      "0 1 1 2 3 5 8 \n"
     ]
    }
   ],
   "metadata": {}
  },
  {
   "cell_type": "markdown",
   "source": [
    "Usage: from module import function as alias\n",
    "*  Call: alias"
   ],
   "metadata": {}
  },
  {
   "cell_type": "markdown",
   "source": [
    "### Python Package\n",
    "\n",
    "* Python package is a collection of modules.\n",
    "* It is a folder containing modules\n",
    "    * And maybe other folders that may contain other modules.\n",
    "* An __init__.py file is required to make Python treat directories containing the\n",
    "file as packages.\n",
    "    * It can just be an empty file."
   ],
   "metadata": {}
  },
  {
   "cell_type": "markdown",
   "source": [
    "### Namespace\n",
    "\n",
    "* A system that has a unique name for each and every object - variable, function.\n",
    "* A mapping between variable names and objects.\n",
    "* Local — All the names of variables declared within a function.\n",
    "* Global — All the names of variables and functions that are included in the modules\n",
    "being used in the program and Local namespace.\n",
    "* Builtin — All the built in names live here and this namespace is created when the\n",
    "interpreter starts up. Contains global which in turn contains local.\n",
    "* When a function starts execution, a namespace is created, and is dropped when it\n",
    "finishes execution."
   ],
   "metadata": {}
  },
  {
   "cell_type": "markdown",
   "source": [
    "* A virtual environment is a Python environment such that the Python\r\n",
    "interpreter, libraries and scripts installed into it are isolated from those\r\n",
    "installed in a “system” Python - as part of your operating system or other\r\n",
    "virtual environments. (https://docs.python.org/3/library/venv.html)\r\n",
    "* Pipenv (https://pipenv.pypa.io/en/latest/)\r\n",
    "* venv (https://docs.python.org/3/tutorial/venv.html)"
   ],
   "metadata": {}
  },
  {
   "cell_type": "markdown",
   "source": [],
   "metadata": {}
  }
 ],
 "metadata": {
  "kernelspec": {
   "display_name": "Python 3",
   "language": "python",
   "name": "python3"
  },
  "language_info": {
   "codemirror_mode": {
    "name": "ipython",
    "version": 3
   },
   "file_extension": ".py",
   "mimetype": "text/x-python",
   "name": "python",
   "nbconvert_exporter": "python",
   "pygments_lexer": "ipython3",
   "version": "3.8.8"
  }
 },
 "nbformat": 4,
 "nbformat_minor": 5
}